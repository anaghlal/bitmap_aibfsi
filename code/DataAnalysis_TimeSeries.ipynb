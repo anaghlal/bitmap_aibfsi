{
 "cells": [
  {
   "cell_type": "code",
   "execution_count": 2,
   "id": "61b8d9ad",
   "metadata": {},
   "outputs": [],
   "source": [
    "#basic packages\n",
    "import numpy as np\n",
    "import pandas as pd\n",
    "import matplotlib.pyplot as plt\n",
    "\n",
    "#stationarity test\n",
    "from statsmodels.tsa.stattools import adfuller\n",
    "\n",
    "from sklearn.preprocessing import MinMaxScaler\n",
    "\n",
    "\n",
    "#time-series prediction models\n",
    "#from statsmodels.tsa.ar_model import AR\n",
    "#from statsmodels.tsa.arima_model import ARMA\n",
    "from statsmodels.tsa.arima_model import ARIMA\n",
    "from statsmodels.tsa.statespace.sarimax import SARIMAX\n",
    "\n",
    "#trend analysis\n",
    "from sklearn.linear_model import LinearRegression\n",
    "\n",
    "#to generate all combinations of the parameters\n",
    "import itertools\n",
    "\n",
    "#models' accuracy calculation\n",
    "from sklearn.metrics import mean_squared_error\n",
    "\n",
    "#to ignore all warnings\n",
    "import warnings\n",
    "warnings.filterwarnings('ignore')"
   ]
  },
  {
   "cell_type": "code",
   "execution_count": 3,
   "id": "e01620d3",
   "metadata": {},
   "outputs": [],
   "source": [
    "df = pd.read_csv('data/DJIA_table.csv')\n"
   ]
  },
  {
   "cell_type": "code",
   "execution_count": 4,
   "id": "5b6f5a11",
   "metadata": {},
   "outputs": [],
   "source": [
    "df['DiffPrice'] = df['Close']-df['Open']"
   ]
  },
  {
   "cell_type": "code",
   "execution_count": 5,
   "id": "1d2785a3",
   "metadata": {},
   "outputs": [
    {
     "data": {
      "text/html": [
       "<div>\n",
       "<style scoped>\n",
       "    .dataframe tbody tr th:only-of-type {\n",
       "        vertical-align: middle;\n",
       "    }\n",
       "\n",
       "    .dataframe tbody tr th {\n",
       "        vertical-align: top;\n",
       "    }\n",
       "\n",
       "    .dataframe thead th {\n",
       "        text-align: right;\n",
       "    }\n",
       "</style>\n",
       "<table border=\"1\" class=\"dataframe\">\n",
       "  <thead>\n",
       "    <tr style=\"text-align: right;\">\n",
       "      <th></th>\n",
       "      <th>Date</th>\n",
       "      <th>Open</th>\n",
       "      <th>High</th>\n",
       "      <th>Low</th>\n",
       "      <th>Close</th>\n",
       "      <th>Volume</th>\n",
       "      <th>Adj Close</th>\n",
       "      <th>DiffPrice</th>\n",
       "    </tr>\n",
       "  </thead>\n",
       "  <tbody>\n",
       "    <tr>\n",
       "      <th>0</th>\n",
       "      <td>2016-07-01</td>\n",
       "      <td>17924.240234</td>\n",
       "      <td>18002.380859</td>\n",
       "      <td>17916.910156</td>\n",
       "      <td>17949.369141</td>\n",
       "      <td>82160000</td>\n",
       "      <td>17949.369141</td>\n",
       "      <td>25.128907</td>\n",
       "    </tr>\n",
       "    <tr>\n",
       "      <th>1</th>\n",
       "      <td>2016-06-30</td>\n",
       "      <td>17712.759766</td>\n",
       "      <td>17930.609375</td>\n",
       "      <td>17711.800781</td>\n",
       "      <td>17929.990234</td>\n",
       "      <td>133030000</td>\n",
       "      <td>17929.990234</td>\n",
       "      <td>217.230468</td>\n",
       "    </tr>\n",
       "    <tr>\n",
       "      <th>2</th>\n",
       "      <td>2016-06-29</td>\n",
       "      <td>17456.019531</td>\n",
       "      <td>17704.509766</td>\n",
       "      <td>17456.019531</td>\n",
       "      <td>17694.679688</td>\n",
       "      <td>106380000</td>\n",
       "      <td>17694.679688</td>\n",
       "      <td>238.660157</td>\n",
       "    </tr>\n",
       "    <tr>\n",
       "      <th>3</th>\n",
       "      <td>2016-06-28</td>\n",
       "      <td>17190.509766</td>\n",
       "      <td>17409.720703</td>\n",
       "      <td>17190.509766</td>\n",
       "      <td>17409.720703</td>\n",
       "      <td>112190000</td>\n",
       "      <td>17409.720703</td>\n",
       "      <td>219.210937</td>\n",
       "    </tr>\n",
       "    <tr>\n",
       "      <th>4</th>\n",
       "      <td>2016-06-27</td>\n",
       "      <td>17355.210938</td>\n",
       "      <td>17355.210938</td>\n",
       "      <td>17063.080078</td>\n",
       "      <td>17140.240234</td>\n",
       "      <td>138740000</td>\n",
       "      <td>17140.240234</td>\n",
       "      <td>-214.970704</td>\n",
       "    </tr>\n",
       "  </tbody>\n",
       "</table>\n",
       "</div>"
      ],
      "text/plain": [
       "         Date          Open          High           Low         Close  \\\n",
       "0  2016-07-01  17924.240234  18002.380859  17916.910156  17949.369141   \n",
       "1  2016-06-30  17712.759766  17930.609375  17711.800781  17929.990234   \n",
       "2  2016-06-29  17456.019531  17704.509766  17456.019531  17694.679688   \n",
       "3  2016-06-28  17190.509766  17409.720703  17190.509766  17409.720703   \n",
       "4  2016-06-27  17355.210938  17355.210938  17063.080078  17140.240234   \n",
       "\n",
       "      Volume     Adj Close   DiffPrice  \n",
       "0   82160000  17949.369141   25.128907  \n",
       "1  133030000  17929.990234  217.230468  \n",
       "2  106380000  17694.679688  238.660157  \n",
       "3  112190000  17409.720703  219.210937  \n",
       "4  138740000  17140.240234 -214.970704  "
      ]
     },
     "execution_count": 5,
     "metadata": {},
     "output_type": "execute_result"
    }
   ],
   "source": [
    "df.head()"
   ]
  },
  {
   "cell_type": "code",
   "execution_count": 6,
   "id": "ac2899b2",
   "metadata": {},
   "outputs": [
    {
     "data": {
      "text/html": [
       "<div>\n",
       "<style scoped>\n",
       "    .dataframe tbody tr th:only-of-type {\n",
       "        vertical-align: middle;\n",
       "    }\n",
       "\n",
       "    .dataframe tbody tr th {\n",
       "        vertical-align: top;\n",
       "    }\n",
       "\n",
       "    .dataframe thead th {\n",
       "        text-align: right;\n",
       "    }\n",
       "</style>\n",
       "<table border=\"1\" class=\"dataframe\">\n",
       "  <thead>\n",
       "    <tr style=\"text-align: right;\">\n",
       "      <th></th>\n",
       "      <th>Open</th>\n",
       "      <th>High</th>\n",
       "      <th>Low</th>\n",
       "      <th>Close</th>\n",
       "      <th>Volume</th>\n",
       "      <th>Adj Close</th>\n",
       "      <th>DiffPrice</th>\n",
       "    </tr>\n",
       "  </thead>\n",
       "  <tbody>\n",
       "    <tr>\n",
       "      <th>count</th>\n",
       "      <td>1989.000000</td>\n",
       "      <td>1989.000000</td>\n",
       "      <td>1989.000000</td>\n",
       "      <td>1989.000000</td>\n",
       "      <td>1.989000e+03</td>\n",
       "      <td>1989.000000</td>\n",
       "      <td>1989.000000</td>\n",
       "    </tr>\n",
       "    <tr>\n",
       "      <th>mean</th>\n",
       "      <td>13459.116048</td>\n",
       "      <td>13541.303173</td>\n",
       "      <td>13372.931728</td>\n",
       "      <td>13463.032255</td>\n",
       "      <td>1.628110e+08</td>\n",
       "      <td>13463.032255</td>\n",
       "      <td>3.916206</td>\n",
       "    </tr>\n",
       "    <tr>\n",
       "      <th>std</th>\n",
       "      <td>3143.281634</td>\n",
       "      <td>3136.271725</td>\n",
       "      <td>3150.420934</td>\n",
       "      <td>3144.006996</td>\n",
       "      <td>9.392343e+07</td>\n",
       "      <td>3144.006996</td>\n",
       "      <td>141.227938</td>\n",
       "    </tr>\n",
       "    <tr>\n",
       "      <th>min</th>\n",
       "      <td>6547.009766</td>\n",
       "      <td>6709.609863</td>\n",
       "      <td>6469.950195</td>\n",
       "      <td>6547.049805</td>\n",
       "      <td>8.410000e+06</td>\n",
       "      <td>6547.049805</td>\n",
       "      <td>-774.169922</td>\n",
       "    </tr>\n",
       "    <tr>\n",
       "      <th>25%</th>\n",
       "      <td>10907.339844</td>\n",
       "      <td>11000.980469</td>\n",
       "      <td>10824.759766</td>\n",
       "      <td>10913.379883</td>\n",
       "      <td>1.000000e+08</td>\n",
       "      <td>10913.379883</td>\n",
       "      <td>-60.169922</td>\n",
       "    </tr>\n",
       "    <tr>\n",
       "      <th>50%</th>\n",
       "      <td>13022.049805</td>\n",
       "      <td>13088.110352</td>\n",
       "      <td>12953.129883</td>\n",
       "      <td>13025.580078</td>\n",
       "      <td>1.351700e+08</td>\n",
       "      <td>13025.580078</td>\n",
       "      <td>8.540039</td>\n",
       "    </tr>\n",
       "    <tr>\n",
       "      <th>75%</th>\n",
       "      <td>16477.699219</td>\n",
       "      <td>16550.070312</td>\n",
       "      <td>16392.769531</td>\n",
       "      <td>16478.410156</td>\n",
       "      <td>1.926000e+08</td>\n",
       "      <td>16478.410156</td>\n",
       "      <td>74.558594</td>\n",
       "    </tr>\n",
       "    <tr>\n",
       "      <th>max</th>\n",
       "      <td>18315.060547</td>\n",
       "      <td>18351.359375</td>\n",
       "      <td>18272.560547</td>\n",
       "      <td>18312.390625</td>\n",
       "      <td>6.749200e+08</td>\n",
       "      <td>18312.390625</td>\n",
       "      <td>925.190430</td>\n",
       "    </tr>\n",
       "  </tbody>\n",
       "</table>\n",
       "</div>"
      ],
      "text/plain": [
       "               Open          High           Low         Close        Volume  \\\n",
       "count   1989.000000   1989.000000   1989.000000   1989.000000  1.989000e+03   \n",
       "mean   13459.116048  13541.303173  13372.931728  13463.032255  1.628110e+08   \n",
       "std     3143.281634   3136.271725   3150.420934   3144.006996  9.392343e+07   \n",
       "min     6547.009766   6709.609863   6469.950195   6547.049805  8.410000e+06   \n",
       "25%    10907.339844  11000.980469  10824.759766  10913.379883  1.000000e+08   \n",
       "50%    13022.049805  13088.110352  12953.129883  13025.580078  1.351700e+08   \n",
       "75%    16477.699219  16550.070312  16392.769531  16478.410156  1.926000e+08   \n",
       "max    18315.060547  18351.359375  18272.560547  18312.390625  6.749200e+08   \n",
       "\n",
       "          Adj Close    DiffPrice  \n",
       "count   1989.000000  1989.000000  \n",
       "mean   13463.032255     3.916206  \n",
       "std     3144.006996   141.227938  \n",
       "min     6547.049805  -774.169922  \n",
       "25%    10913.379883   -60.169922  \n",
       "50%    13025.580078     8.540039  \n",
       "75%    16478.410156    74.558594  \n",
       "max    18312.390625   925.190430  "
      ]
     },
     "execution_count": 6,
     "metadata": {},
     "output_type": "execute_result"
    }
   ],
   "source": [
    "df.describe()"
   ]
  },
  {
   "cell_type": "code",
   "execution_count": 7,
   "id": "ffab168e",
   "metadata": {},
   "outputs": [],
   "source": [
    "data = df\n",
    "data = data.set_index('Date')\n",
    "data = data.loc[:,'Close']"
   ]
  },
  {
   "cell_type": "code",
   "execution_count": 28,
   "id": "d8ed4db9",
   "metadata": {},
   "outputs": [
    {
     "data": {
      "text/plain": [
       "<AxesSubplot:xlabel='Date'>"
      ]
     },
     "execution_count": 28,
     "metadata": {},
     "output_type": "execute_result"
    },
    {
     "data": {
      "image/png": "[encoded data removed]",
      "text/plain": [
       "<Figure size 432x288 with 1 Axes>"
      ]
     },
     "metadata": {
      "needs_background": "light"
     },
     "output_type": "display_data"
    }
   ],
   "source": [
    "data[0:25].plot()\n",
    "data[25:50].plot()\n",
    "data[50:75].plot()"
   ]
  },
  {
   "cell_type": "code",
   "execution_count": 9,
   "id": "91516c72",
   "metadata": {},
   "outputs": [
    {
     "data": {
      "text/plain": [
       "count     1989.000000\n",
       "mean     13463.032255\n",
       "std       3144.006996\n",
       "min       6547.049805\n",
       "25%      10913.379883\n",
       "50%      13025.580078\n",
       "75%      16478.410156\n",
       "max      18312.390625\n",
       "Name: Close, dtype: float64"
      ]
     },
     "execution_count": 9,
     "metadata": {},
     "output_type": "execute_result"
    }
   ],
   "source": [
    "data.describe()"
   ]
  },
  {
   "cell_type": "code",
   "execution_count": 10,
   "id": "d49e06c4",
   "metadata": {},
   "outputs": [
    {
     "data": {
      "text/plain": [
       "Text(0.5, 1.0, 'Autocorrelation plot lag=5')"
      ]
     },
     "execution_count": 10,
     "metadata": {},
     "output_type": "execute_result"
    },
    {
     "data": {
      "image/png": "[encoded data removed]",
      "text/plain": [
       "<Figure size 720x720 with 1 Axes>"
      ]
     },
     "metadata": {
      "needs_background": "light"
     },
     "output_type": "display_data"
    },
    {
     "data": {
      "image/png": "[encoded data removed]",
      "text/plain": [
       "<Figure size 720x720 with 1 Axes>"
      ]
     },
     "metadata": {
      "needs_background": "light"
     },
     "output_type": "display_data"
    }
   ],
   "source": [
    "from pandas.plotting import lag_plot\n",
    "plt.figure(figsize=(10,10))\n",
    "lag_plot(df['Close'], lag=1)\n",
    "plt.title('Autocorrelation plot lag=1')\n",
    "\n",
    "plt.figure(figsize=(10,10))\n",
    "lag_plot(df['Close'], lag=5)\n",
    "plt.title('Autocorrelation plot lag=5')\n"
   ]
  },
  {
   "cell_type": "code",
   "execution_count": 11,
   "id": "ba2c2230",
   "metadata": {},
   "outputs": [],
   "source": [
    "\n",
    "import matplotlib.pyplot as plt"
   ]
  },
  {
   "cell_type": "code",
   "execution_count": 12,
   "id": "35129dac",
   "metadata": {},
   "outputs": [],
   "source": [
    "#stationarity test\n",
    "from statsmodels.tsa.stattools import adfuller"
   ]
  },
  {
   "cell_type": "code",
   "execution_count": null,
   "id": "5f2fae3e",
   "metadata": {},
   "outputs": [],
   "source": []
  },
  {
   "cell_type": "code",
   "execution_count": 13,
   "id": "40e1438a",
   "metadata": {},
   "outputs": [
    {
     "name": "stdout",
     "output_type": "stream",
     "text": [
      "ADF Statistic: -1.226757785411685\n",
      "p-value: 0.6619805931301762\n"
     ]
    }
   ],
   "source": [
    "result = adfuller(data)\n",
    "print('ADF Statistic: {}'.format(result[0]))\n",
    "print('p-value: {}'.format(result[1]))"
   ]
  },
  {
   "cell_type": "code",
   "execution_count": 14,
   "id": "a92eb3e9",
   "metadata": {},
   "outputs": [],
   "source": [
    "data_price_diff = df\n",
    "data_price_diff = data_price_diff.set_index('Date')\n",
    "data_price_diff =  data_price_diff.loc[:,'DiffPrice']"
   ]
  },
  {
   "cell_type": "code",
   "execution_count": 15,
   "id": "def01d7f",
   "metadata": {},
   "outputs": [
    {
     "data": {
      "text/plain": [
       "<AxesSubplot:xlabel='Date'>"
      ]
     },
     "execution_count": 15,
     "metadata": {},
     "output_type": "execute_result"
    },
    {
     "data": {
      "image/png": "[encoded data removed]",
      "text/plain": [
       "<Figure size 432x288 with 1 Axes>"
      ]
     },
     "metadata": {
      "needs_background": "light"
     },
     "output_type": "display_data"
    }
   ],
   "source": [
    "#Differencing\n",
    "data_price_diff.plot()"
   ]
  },
  {
   "cell_type": "code",
   "execution_count": 16,
   "id": "7bbba6b3",
   "metadata": {},
   "outputs": [
    {
     "name": "stdout",
     "output_type": "stream",
     "text": [
      "ADF Statistic: -10.090028744927771\n",
      "p-value: 1.1285560565967265e-17\n"
     ]
    }
   ],
   "source": [
    "result = adfuller(data_price_diff)\n",
    "print('ADF Statistic: {}'.format(result[0]))\n",
    "print('p-value: {}'.format(result[1]))"
   ]
  },
  {
   "cell_type": "code",
   "execution_count": null,
   "id": "deb42168",
   "metadata": {},
   "outputs": [],
   "source": []
  },
  {
   "cell_type": "markdown",
   "id": "327b0ab4",
   "metadata": {},
   "source": [
    "# AR Model"
   ]
  },
  {
   "cell_type": "code",
   "execution_count": 17,
   "id": "44ceb7df",
   "metadata": {
    "scrolled": true
   },
   "outputs": [
    {
     "data": {
      "image/png": "[encoded data removed]",
      "text/plain": [
       "<Figure size 432x288 with 1 Axes>"
      ]
     },
     "metadata": {
      "needs_background": "light"
     },
     "output_type": "display_data"
    }
   ],
   "source": [
    "#plot the accuracy with various train-test splits\n",
    "\n",
    "x = data.values\n",
    "\n",
    "train_per_list=[0.5,0.6,0.7,0.8,0.9]\n",
    "acc_list=[]\n",
    "\n",
    "for train_per in train_per_list:\n",
    "    \n",
    "    #perform the split\n",
    "    train = x[:int(x.size*train_per)]\n",
    "    test = x[int(x.size*train_per):]\n",
    "    \n",
    "    #train the model\n",
    "    arma_model = ARIMA(train, order=(1, 0, 1))\n",
    "    arma_fit = arma_model.fit()\n",
    "    arma_pred = arma_fit.predict(start=int(x.size*train_per), end=x.size-1)\n",
    "    \n",
    "    #store the results\n",
    "    acc_list.append(mean_squared_error(test, arma_pred))\n",
    "\n",
    "#plot the graph\n",
    "plt.plot(train_per_list,acc_list)\n",
    "plt.ylabel('MSE')\n",
    "plt.xlabel('Training %')\n",
    "plt.show()"
   ]
  },
  {
   "cell_type": "code",
   "execution_count": 18,
   "id": "6693161c",
   "metadata": {},
   "outputs": [],
   "source": [
    "min_max_scaler = MinMaxScaler(feature_range=(0,1))\n",
    "x = np.array(data.values)\n",
    "x = x.reshape(-1,1)\n",
    "x = min_max_scaler.fit_transform(x)"
   ]
  },
  {
   "cell_type": "code",
   "execution_count": 19,
   "id": "d9d115d5",
   "metadata": {},
   "outputs": [
    {
     "name": "stdout",
     "output_type": "stream",
     "text": [
      "For  0.7  executed :  2 / 105  :  (1, 0, 1) MSE  0.07028560460955069\n",
      "For  0.7  executed :  3 / 105  :  (1, 0, 5) MSE  0.060378537217107404\n",
      "For  0.7  executed :  4 / 105  :  (1, 0, 7) MSE  0.061648830203514964\n",
      "For  0.7  executed :  5 / 105  :  (1, 1, 1) MSE  0.08440381041469427\n",
      "For  0.7  executed :  6 / 105  :  (1, 1, 5) MSE  0.08440060693792219\n",
      "For  0.7  executed :  7 / 105  :  (1, 1, 7) MSE  0.08440090606887812\n",
      "For  0.7  executed :  8 / 105  :  (1, 2, 1) MSE  0.08418821329055573\n",
      "For  0.7  executed :  10 / 105  :  (1, 2, 7) MSE  0.08418801936632112\n",
      "For  0.7  executed :  17 / 105  :  (5, 0, 1) MSE  0.060849313394806134\n",
      "For  0.7  executed :  18 / 105  :  (5, 0, 5) MSE  0.06148448192840471\n",
      "For  0.7  executed :  19 / 105  :  (5, 0, 7) MSE  0.03735811945602793\n",
      "For  0.7  executed :  20 / 105  :  (5, 1, 1) MSE  0.08440094368250234\n",
      "For  0.7  executed :  21 / 105  :  (5, 1, 5) MSE  0.0843980732956506\n",
      "For  0.7  executed :  22 / 105  :  (5, 1, 7) MSE  0.08438751272656442\n",
      "For  0.7  executed :  23 / 105  :  (5, 2, 1) MSE  0.08418819677263878\n",
      "For  0.7  executed :  24 / 105  :  (5, 2, 5) MSE  0.08418804119256035\n",
      "For  0.7  executed :  25 / 105  :  (5, 2, 7) MSE  0.08418816998715106\n",
      "For  0.7  executed :  32 / 105  :  (7, 0, 1) MSE  0.06090218749844859\n",
      "For  0.7  executed :  33 / 105  :  (7, 0, 5) MSE  0.06337564736236072\n",
      "For  0.7  executed :  34 / 105  :  (7, 0, 7) MSE  0.0550699560725265\n",
      "For  0.7  executed :  35 / 105  :  (7, 1, 1) MSE  0.08440110821126898\n",
      "For  0.7  executed :  36 / 105  :  (7, 1, 5) MSE  0.08439360006057303\n",
      "For  0.7  executed :  37 / 105  :  (7, 1, 7) MSE  0.08440220153059363\n",
      "For  0.7  executed :  38 / 105  :  (7, 2, 1) MSE  0.08418823204477618\n",
      "For  0.7  executed :  39 / 105  :  (7, 2, 5) MSE  0.08418806599944333\n",
      "For  0.7  executed :  40 / 105  :  (7, 2, 7) MSE  0.0841880785865114\n",
      "For  0.7  executed :  47 / 105  :  (10, 0, 1) MSE  0.06160628965452993\n",
      "For  0.7  executed :  48 / 105  :  (10, 0, 5) MSE  0.025292899447724063\n",
      "For  0.7  executed :  49 / 105  :  (10, 0, 7) MSE  0.03982965850825046\n",
      "For  0.7  executed :  50 / 105  :  (10, 1, 1) MSE  0.0844006284606045\n",
      "For  0.7  executed :  51 / 105  :  (10, 1, 5) MSE  0.08439403032141712\n",
      "For  0.7  executed :  52 / 105  :  (10, 1, 7) MSE  0.08440069936302844\n",
      "For  0.7  executed :  53 / 105  :  (10, 2, 1) MSE  0.08418820158597294\n",
      "For  0.7  executed :  62 / 105  :  (12, 0, 1) MSE  0.06274449021200391\n",
      "For  0.7  executed :  63 / 105  :  (12, 0, 5) MSE  0.06348546944118859\n",
      "For  0.7  executed :  64 / 105  :  (12, 0, 7) MSE  0.030414622969995482\n",
      "For  0.7  executed :  65 / 105  :  (12, 1, 1) MSE  0.08440099940774481\n",
      "For  0.7  executed :  66 / 105  :  (12, 1, 5) MSE  0.08439864392345835\n",
      "For  0.7  executed :  67 / 105  :  (12, 1, 7) MSE  0.08440134200951038\n",
      "For  0.7  executed :  68 / 105  :  (12, 2, 1) MSE  0.08418803400185196\n",
      "For  0.7  executed :  77 / 105  :  (15, 0, 1) MSE  0.05937301813959406\n",
      "For  0.7  executed :  78 / 105  :  (15, 0, 5) MSE  18.610265299825112\n",
      "For  0.7  executed :  79 / 105  :  (15, 0, 7) MSE  0.02571411276576282\n",
      "For  0.7  executed :  80 / 105  :  (15, 1, 1) MSE  0.08439980476234309\n",
      "For  0.7  executed :  81 / 105  :  (15, 1, 5) MSE  0.0843995590990133\n",
      "For  0.7  executed :  82 / 105  :  (15, 1, 7) MSE  0.08439016752353773\n",
      "For  0.7  executed :  83 / 105  :  (15, 2, 1) MSE  0.08418804652512756\n",
      "For  0.7  executed :  92 / 105  :  (20, 0, 1) MSE  0.058594525452744524\n",
      "For  0.7  executed :  93 / 105  :  (20, 0, 5) MSE  0.0519680077727136\n",
      "For  0.7  executed :  94 / 105  :  (20, 0, 7) MSE  0.04331945760358899\n",
      "For  0.7  executed :  95 / 105  :  (20, 1, 1) MSE  0.08439972790785606\n",
      "For  0.7  executed :  96 / 105  :  (20, 1, 5) MSE  0.08439307298215759\n",
      "For  0.7  executed :  97 / 105  :  (20, 1, 7) MSE  0.08438463355108154\n",
      "[[0.7, (1, 0, 1), 0.07028560460955069], [0.7, (1, 0, 5), 0.060378537217107404], [0.7, (1, 0, 7), 0.061648830203514964], [0.7, (1, 1, 1), 0.08440381041469427], [0.7, (1, 1, 5), 0.08440060693792219], [0.7, (1, 1, 7), 0.08440090606887812], [0.7, (1, 2, 1), 0.08418821329055573], [0.7, (1, 2, 5), 1], [0.7, (1, 2, 7), 0.08418801936632112], [0.7, (1, 3, 1), 1], [0.7, (1, 3, 5), 1], [0.7, (1, 3, 7), 1], [0.7, (1, 4, 1), 1], [0.7, (1, 4, 5), 1], [0.7, (1, 4, 7), 1], [0.7, (5, 0, 1), 0.060849313394806134], [0.7, (5, 0, 5), 0.06148448192840471], [0.7, (5, 0, 7), 0.03735811945602793], [0.7, (5, 1, 1), 0.08440094368250234], [0.7, (5, 1, 5), 0.0843980732956506], [0.7, (5, 1, 7), 0.08438751272656442], [0.7, (5, 2, 1), 0.08418819677263878], [0.7, (5, 2, 5), 0.08418804119256035], [0.7, (5, 2, 7), 0.08418816998715106], [0.7, (5, 3, 1), 1], [0.7, (5, 3, 5), 1], [0.7, (5, 3, 7), 1], [0.7, (5, 4, 1), 1], [0.7, (5, 4, 5), 1], [0.7, (5, 4, 7), 1], [0.7, (7, 0, 1), 0.06090218749844859], [0.7, (7, 0, 5), 0.06337564736236072], [0.7, (7, 0, 7), 0.0550699560725265], [0.7, (7, 1, 1), 0.08440110821126898], [0.7, (7, 1, 5), 0.08439360006057303], [0.7, (7, 1, 7), 0.08440220153059363], [0.7, (7, 2, 1), 0.08418823204477618], [0.7, (7, 2, 5), 0.08418806599944333], [0.7, (7, 2, 7), 0.0841880785865114], [0.7, (7, 3, 1), 1], [0.7, (7, 3, 5), 1], [0.7, (7, 3, 7), 1], [0.7, (7, 4, 1), 1], [0.7, (7, 4, 5), 1], [0.7, (7, 4, 7), 1], [0.7, (10, 0, 1), 0.06160628965452993], [0.7, (10, 0, 5), 0.025292899447724063], [0.7, (10, 0, 7), 0.03982965850825046], [0.7, (10, 1, 1), 0.0844006284606045], [0.7, (10, 1, 5), 0.08439403032141712], [0.7, (10, 1, 7), 0.08440069936302844], [0.7, (10, 2, 1), 0.08418820158597294], [0.7, (10, 2, 5), 1], [0.7, (10, 2, 7), 1], [0.7, (10, 3, 1), 1], [0.7, (10, 3, 5), 1], [0.7, (10, 3, 7), 1], [0.7, (10, 4, 1), 1], [0.7, (10, 4, 5), 1], [0.7, (10, 4, 7), 1], [0.7, (12, 0, 1), 0.06274449021200391], [0.7, (12, 0, 5), 0.06348546944118859], [0.7, (12, 0, 7), 0.030414622969995482], [0.7, (12, 1, 1), 0.08440099940774481], [0.7, (12, 1, 5), 0.08439864392345835], [0.7, (12, 1, 7), 0.08440134200951038], [0.7, (12, 2, 1), 0.08418803400185196], [0.7, (12, 2, 5), 1], [0.7, (12, 2, 7), 1], [0.7, (12, 3, 1), 1], [0.7, (12, 3, 5), 1], [0.7, (12, 3, 7), 1], [0.7, (12, 4, 1), 1], [0.7, (12, 4, 5), 1], [0.7, (12, 4, 7), 1], [0.7, (15, 0, 1), 0.05937301813959406], [0.7, (15, 0, 5), 18.610265299825112], [0.7, (15, 0, 7), 0.02571411276576282], [0.7, (15, 1, 1), 0.08439980476234309], [0.7, (15, 1, 5), 0.0843995590990133], [0.7, (15, 1, 7), 0.08439016752353773], [0.7, (15, 2, 1), 0.08418804652512756], [0.7, (15, 2, 5), 1], [0.7, (15, 2, 7), 1], [0.7, (15, 3, 1), 1], [0.7, (15, 3, 5), 1], [0.7, (15, 3, 7), 1], [0.7, (15, 4, 1), 1], [0.7, (15, 4, 5), 1], [0.7, (15, 4, 7), 1], [0.7, (20, 0, 1), 0.058594525452744524], [0.7, (20, 0, 5), 0.0519680077727136], [0.7, (20, 0, 7), 0.04331945760358899], [0.7, (20, 1, 1), 0.08439972790785606], [0.7, (20, 1, 5), 0.08439307298215759], [0.7, (20, 1, 7), 0.08438463355108154], [0.7, (20, 2, 1), 1], [0.7, (20, 2, 5), 1], [0.7, (20, 2, 7), 1], [0.7, (20, 3, 1), 1], [0.7, (20, 3, 5), 1], [0.7, (20, 3, 7), 1], [0.7, (20, 4, 1), 1], [0.7, (20, 4, 5), 1], [0.7, (20, 4, 7), 1]]\n",
      "\n",
      "\n",
      "smallest mse is  0.025292899447724063\n",
      "best parameters are  [(10, 0, 5), 0.7]\n"
     ]
    }
   ],
   "source": [
    "p = [1,5,7,10,12,15,20]\n",
    "d = range(0,5)\n",
    "q = [1,5,7]\n",
    "\n",
    "pdq = list(itertools.product(p,d,q))\n",
    "\n",
    "acc_list = []\n",
    "\n",
    "smallest_mse = 1000000000000000\n",
    "train_per_list=[0.7]\n",
    "\n",
    "best=[]\n",
    "for train_per in train_per_list:\n",
    "    i=1\n",
    "    train = x[:int(x.size*train_per)]\n",
    "    test = x[int(x.size*train_per):]    \n",
    "    for param in pdq:\n",
    "        i+=1\n",
    "\n",
    "        try:\n",
    "            #train the model \n",
    "            arima_model = ARIMA(train, order=param)\n",
    "            arima_fit = arima_model.fit()\n",
    "\n",
    "            #record the predictions for calculating accuracy\n",
    "            arima_pred = arima_fit.predict(start=int(x.size*train_per), end=x.size-1)\n",
    "            acc=mean_squared_error(test, arima_pred)\n",
    "\n",
    "            #store the accrucy in a list for graph plotting\n",
    "            acc_list.append([train_per,param,acc])\n",
    "\n",
    "            #capture the smallest MSE and its parameters\n",
    "            if acc < smallest_mse:\n",
    "                smallest_mse = acc\n",
    "                best = [param, train_per]\n",
    "            print(\"For \",train_per,\" executed : \",i,\"/\",len(pdq),\" : \", param, \"MSE \",acc)    \n",
    "\n",
    "        except:\n",
    "            #if the parameters are invalid, i.e. model training gives error, \n",
    "            #then add a very high error rate in the accrucy list\n",
    "            print('Error in training model with param',param)\n",
    "            acc_list.append([train_per,param,1])\n",
    "            continue\n",
    "        \n",
    "\n",
    "print(acc_list)\n",
    "print(\"\\n\\nsmallest mse is \", smallest_mse)\n",
    "print(\"best parameters are \", best)\n"
   ]
  },
  {
   "cell_type": "code",
   "execution_count": 22,
   "id": "bef8e70c",
   "metadata": {},
   "outputs": [
    {
     "name": "stdout",
     "output_type": "stream",
     "text": [
      "[1, 2, 3] [1, 2, 3, 4]\n"
     ]
    }
   ],
   "source": [
    "p=[1,2,3]\n",
    "x=p.copy()\n",
    "x.append(4)\n",
    "print(p,x)"
   ]
  },
  {
   "cell_type": "code",
   "execution_count": null,
   "id": "77475a93",
   "metadata": {},
   "outputs": [],
   "source": [
    "#model building + training\n",
    "sarima_model = SARIMAX(train, order=order, seasonal_order=seasonal_order)\n",
    "sarima_fit = sarima_model.fit()\n",
    "sarima_pred = sarima_fit.forecast(steps=(x.size-int(x.size*train_per)))\n",
    "\n",
    "#accuracy and predictions display\n",
    "print(\"MSE : \",mean_squared_error(test, sarima_pred))"
   ]
  },
  {
   "cell_type": "code",
   "execution_count": null,
   "id": "9280fbf7",
   "metadata": {},
   "outputs": [],
   "source": [
    "p = range(1,70,10)\n",
    "d = range(0,5)\n",
    "q = range(1,70,10)\n",
    "\n",
    "pdq = list(itertools.product(p,d,q))\n",
    "\n",
    "acc_list = []\n",
    "\n",
    "smallest_mse = 1000000000000000\n",
    "train_per_list=[0.5,0.6,0.7,0.8]\n",
    "\n",
    "best=[]\n",
    "for train_per in train_per_list:\n",
    "    i=1\n",
    "    train = x[:int(x.size*train_per)]\n",
    "    test = x[int(x.size*train_per):]    \n",
    "    for param in pdq:\n",
    "        i+=1\n",
    "\n",
    "        try:\n",
    "            seasonal_order = param\n",
    "            seasonal_order.append(1)\n",
    "            \n",
    "            #train the model \n",
    "            sarima_model = SARIMAX(train, order=param, seasonal_order=seasonal_order)\n",
    "            arima_fit = arima_model.fit()\n",
    "\n",
    "            #record the predictions for calculating accuracy\n",
    "            arima_pred = arima_fit.predict(start=int(x.size*train_per), end=x.size-1)\n",
    "            acc=mean_squared_error(test, arima_pred)\n",
    "\n",
    "            #store the accrucy in a list for graph plotting\n",
    "            acc_list.append(acc)\n",
    "\n",
    "            #capture the smallest MSE and its parameters\n",
    "            if acc < smallest_mse:\n",
    "                smallest_mse = acc\n",
    "                best = [param, train_per]\n",
    "            print(\"For \",train_per,\" executing : \",i,\"/\",len(pdq),\" : \", param, \"MSE \",acc)    \n",
    "\n",
    "        except:\n",
    "            #if the parameters are invalid, i.e. model training gives error, \n",
    "            #then add a very high error rate in the accrucy list\n",
    "            acc_list.append(100000)\n",
    "            continue\n",
    "        \n",
    "print(\"\\n\\nsmallest mse is \", smallest_mse)\n",
    "print(\"best parameters are \", best)"
   ]
  }
 ],
 "metadata": {
  "kernelspec": {
   "display_name": "Python 3",
   "language": "python",
   "name": "python3"
  },
  "language_info": {
   "codemirror_mode": {
    "name": "ipython",
    "version": 3
   },
   "file_extension": ".py",
   "mimetype": "text/x-python",
   "name": "python",
   "nbconvert_exporter": "python",
   "pygments_lexer": "ipython3",
   "version": "3.8.8"
  }
 },
 "nbformat": 4,
 "nbformat_minor": 5
}
