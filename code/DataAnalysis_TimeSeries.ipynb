{
 "cells": [
  {
   "cell_type": "code",
   "execution_count": 1,
   "id": "61b8d9ad",
   "metadata": {},
   "outputs": [],
   "source": [
    "#basic packages\n",
    "import numpy as np\n",
    "import pandas as pd\n",
    "import matplotlib.pyplot as plt"
   ]
  },
  {
   "cell_type": "code",
   "execution_count": 3,
   "id": "e01620d3",
   "metadata": {},
   "outputs": [],
   "source": [
    "df = pd.read_csv('data/DJIA_table.csv')"
   ]
  },
  {
   "cell_type": "code",
   "execution_count": 4,
   "id": "5b6f5a11",
   "metadata": {},
   "outputs": [],
   "source": [
    "df['DiffPrice'] = df['Close']-df['Open']"
   ]
  },
  {
   "cell_type": "code",
   "execution_count": 5,
   "id": "1d2785a3",
   "metadata": {},
   "outputs": [
    {
     "data": {
      "text/html": [
       "<div>\n",
       "<style scoped>\n",
       "    .dataframe tbody tr th:only-of-type {\n",
       "        vertical-align: middle;\n",
       "    }\n",
       "\n",
       "    .dataframe tbody tr th {\n",
       "        vertical-align: top;\n",
       "    }\n",
       "\n",
       "    .dataframe thead th {\n",
       "        text-align: right;\n",
       "    }\n",
       "</style>\n",
       "<table border=\"1\" class=\"dataframe\">\n",
       "  <thead>\n",
       "    <tr style=\"text-align: right;\">\n",
       "      <th></th>\n",
       "      <th>Date</th>\n",
       "      <th>Open</th>\n",
       "      <th>High</th>\n",
       "      <th>Low</th>\n",
       "      <th>Close</th>\n",
       "      <th>Volume</th>\n",
       "      <th>Adj Close</th>\n",
       "      <th>DiffPrice</th>\n",
       "    </tr>\n",
       "  </thead>\n",
       "  <tbody>\n",
       "    <tr>\n",
       "      <th>0</th>\n",
       "      <td>2016-07-01</td>\n",
       "      <td>17924.240234</td>\n",
       "      <td>18002.380859</td>\n",
       "      <td>17916.910156</td>\n",
       "      <td>17949.369141</td>\n",
       "      <td>82160000</td>\n",
       "      <td>17949.369141</td>\n",
       "      <td>25.128907</td>\n",
       "    </tr>\n",
       "    <tr>\n",
       "      <th>1</th>\n",
       "      <td>2016-06-30</td>\n",
       "      <td>17712.759766</td>\n",
       "      <td>17930.609375</td>\n",
       "      <td>17711.800781</td>\n",
       "      <td>17929.990234</td>\n",
       "      <td>133030000</td>\n",
       "      <td>17929.990234</td>\n",
       "      <td>217.230468</td>\n",
       "    </tr>\n",
       "    <tr>\n",
       "      <th>2</th>\n",
       "      <td>2016-06-29</td>\n",
       "      <td>17456.019531</td>\n",
       "      <td>17704.509766</td>\n",
       "      <td>17456.019531</td>\n",
       "      <td>17694.679688</td>\n",
       "      <td>106380000</td>\n",
       "      <td>17694.679688</td>\n",
       "      <td>238.660157</td>\n",
       "    </tr>\n",
       "    <tr>\n",
       "      <th>3</th>\n",
       "      <td>2016-06-28</td>\n",
       "      <td>17190.509766</td>\n",
       "      <td>17409.720703</td>\n",
       "      <td>17190.509766</td>\n",
       "      <td>17409.720703</td>\n",
       "      <td>112190000</td>\n",
       "      <td>17409.720703</td>\n",
       "      <td>219.210937</td>\n",
       "    </tr>\n",
       "    <tr>\n",
       "      <th>4</th>\n",
       "      <td>2016-06-27</td>\n",
       "      <td>17355.210938</td>\n",
       "      <td>17355.210938</td>\n",
       "      <td>17063.080078</td>\n",
       "      <td>17140.240234</td>\n",
       "      <td>138740000</td>\n",
       "      <td>17140.240234</td>\n",
       "      <td>-214.970704</td>\n",
       "    </tr>\n",
       "  </tbody>\n",
       "</table>\n",
       "</div>"
      ],
      "text/plain": [
       "         Date          Open          High           Low         Close  \\\n",
       "0  2016-07-01  17924.240234  18002.380859  17916.910156  17949.369141   \n",
       "1  2016-06-30  17712.759766  17930.609375  17711.800781  17929.990234   \n",
       "2  2016-06-29  17456.019531  17704.509766  17456.019531  17694.679688   \n",
       "3  2016-06-28  17190.509766  17409.720703  17190.509766  17409.720703   \n",
       "4  2016-06-27  17355.210938  17355.210938  17063.080078  17140.240234   \n",
       "\n",
       "      Volume     Adj Close   DiffPrice  \n",
       "0   82160000  17949.369141   25.128907  \n",
       "1  133030000  17929.990234  217.230468  \n",
       "2  106380000  17694.679688  238.660157  \n",
       "3  112190000  17409.720703  219.210937  \n",
       "4  138740000  17140.240234 -214.970704  "
      ]
     },
     "execution_count": 5,
     "metadata": {},
     "output_type": "execute_result"
    }
   ],
   "source": [
    "df.head()"
   ]
  },
  {
   "cell_type": "code",
   "execution_count": 6,
   "id": "ac2899b2",
   "metadata": {},
   "outputs": [
    {
     "data": {
      "text/html": [
       "<div>\n",
       "<style scoped>\n",
       "    .dataframe tbody tr th:only-of-type {\n",
       "        vertical-align: middle;\n",
       "    }\n",
       "\n",
       "    .dataframe tbody tr th {\n",
       "        vertical-align: top;\n",
       "    }\n",
       "\n",
       "    .dataframe thead th {\n",
       "        text-align: right;\n",
       "    }\n",
       "</style>\n",
       "<table border=\"1\" class=\"dataframe\">\n",
       "  <thead>\n",
       "    <tr style=\"text-align: right;\">\n",
       "      <th></th>\n",
       "      <th>Open</th>\n",
       "      <th>High</th>\n",
       "      <th>Low</th>\n",
       "      <th>Close</th>\n",
       "      <th>Volume</th>\n",
       "      <th>Adj Close</th>\n",
       "      <th>DiffPrice</th>\n",
       "    </tr>\n",
       "  </thead>\n",
       "  <tbody>\n",
       "    <tr>\n",
       "      <th>count</th>\n",
       "      <td>1989.000000</td>\n",
       "      <td>1989.000000</td>\n",
       "      <td>1989.000000</td>\n",
       "      <td>1989.000000</td>\n",
       "      <td>1.989000e+03</td>\n",
       "      <td>1989.000000</td>\n",
       "      <td>1989.000000</td>\n",
       "    </tr>\n",
       "    <tr>\n",
       "      <th>mean</th>\n",
       "      <td>13459.116048</td>\n",
       "      <td>13541.303173</td>\n",
       "      <td>13372.931728</td>\n",
       "      <td>13463.032255</td>\n",
       "      <td>1.628110e+08</td>\n",
       "      <td>13463.032255</td>\n",
       "      <td>3.916206</td>\n",
       "    </tr>\n",
       "    <tr>\n",
       "      <th>std</th>\n",
       "      <td>3143.281634</td>\n",
       "      <td>3136.271725</td>\n",
       "      <td>3150.420934</td>\n",
       "      <td>3144.006996</td>\n",
       "      <td>9.392343e+07</td>\n",
       "      <td>3144.006996</td>\n",
       "      <td>141.227938</td>\n",
       "    </tr>\n",
       "    <tr>\n",
       "      <th>min</th>\n",
       "      <td>6547.009766</td>\n",
       "      <td>6709.609863</td>\n",
       "      <td>6469.950195</td>\n",
       "      <td>6547.049805</td>\n",
       "      <td>8.410000e+06</td>\n",
       "      <td>6547.049805</td>\n",
       "      <td>-774.169922</td>\n",
       "    </tr>\n",
       "    <tr>\n",
       "      <th>25%</th>\n",
       "      <td>10907.339844</td>\n",
       "      <td>11000.980469</td>\n",
       "      <td>10824.759766</td>\n",
       "      <td>10913.379883</td>\n",
       "      <td>1.000000e+08</td>\n",
       "      <td>10913.379883</td>\n",
       "      <td>-60.169922</td>\n",
       "    </tr>\n",
       "    <tr>\n",
       "      <th>50%</th>\n",
       "      <td>13022.049805</td>\n",
       "      <td>13088.110352</td>\n",
       "      <td>12953.129883</td>\n",
       "      <td>13025.580078</td>\n",
       "      <td>1.351700e+08</td>\n",
       "      <td>13025.580078</td>\n",
       "      <td>8.540039</td>\n",
       "    </tr>\n",
       "    <tr>\n",
       "      <th>75%</th>\n",
       "      <td>16477.699219</td>\n",
       "      <td>16550.070312</td>\n",
       "      <td>16392.769531</td>\n",
       "      <td>16478.410156</td>\n",
       "      <td>1.926000e+08</td>\n",
       "      <td>16478.410156</td>\n",
       "      <td>74.558594</td>\n",
       "    </tr>\n",
       "    <tr>\n",
       "      <th>max</th>\n",
       "      <td>18315.060547</td>\n",
       "      <td>18351.359375</td>\n",
       "      <td>18272.560547</td>\n",
       "      <td>18312.390625</td>\n",
       "      <td>6.749200e+08</td>\n",
       "      <td>18312.390625</td>\n",
       "      <td>925.190430</td>\n",
       "    </tr>\n",
       "  </tbody>\n",
       "</table>\n",
       "</div>"
      ],
      "text/plain": [
       "               Open          High           Low         Close        Volume  \\\n",
       "count   1989.000000   1989.000000   1989.000000   1989.000000  1.989000e+03   \n",
       "mean   13459.116048  13541.303173  13372.931728  13463.032255  1.628110e+08   \n",
       "std     3143.281634   3136.271725   3150.420934   3144.006996  9.392343e+07   \n",
       "min     6547.009766   6709.609863   6469.950195   6547.049805  8.410000e+06   \n",
       "25%    10907.339844  11000.980469  10824.759766  10913.379883  1.000000e+08   \n",
       "50%    13022.049805  13088.110352  12953.129883  13025.580078  1.351700e+08   \n",
       "75%    16477.699219  16550.070312  16392.769531  16478.410156  1.926000e+08   \n",
       "max    18315.060547  18351.359375  18272.560547  18312.390625  6.749200e+08   \n",
       "\n",
       "          Adj Close    DiffPrice  \n",
       "count   1989.000000  1989.000000  \n",
       "mean   13463.032255     3.916206  \n",
       "std     3144.006996   141.227938  \n",
       "min     6547.049805  -774.169922  \n",
       "25%    10913.379883   -60.169922  \n",
       "50%    13025.580078     8.540039  \n",
       "75%    16478.410156    74.558594  \n",
       "max    18312.390625   925.190430  "
      ]
     },
     "execution_count": 6,
     "metadata": {},
     "output_type": "execute_result"
    }
   ],
   "source": [
    "df.describe()"
   ]
  },
  {
   "cell_type": "code",
   "execution_count": 7,
   "id": "ffab168e",
   "metadata": {},
   "outputs": [],
   "source": [
    "data = df\n",
    "data = data.set_index('Date')\n",
    "data = data.loc[:,'Close']"
   ]
  },
  {
   "cell_type": "code",
   "execution_count": 8,
   "id": "d8ed4db9",
   "metadata": {},
   "outputs": [
    {
     "data": {
      "text/plain": [
       "<AxesSubplot:xlabel='Date'>"
      ]
     },
     "execution_count": 8,
     "metadata": {},
     "output_type": "execute_result"
    },
    {
     "data": {
      "image/png": "[encoded data removed]",
      "text/plain": [
       "<Figure size 432x288 with 1 Axes>"
      ]
     },
     "metadata": {
      "needs_background": "light"
     },
     "output_type": "display_data"
    }
   ],
   "source": [
    "data.plot()"
   ]
  },
  {
   "cell_type": "code",
   "execution_count": 9,
   "id": "91516c72",
   "metadata": {},
   "outputs": [
    {
     "data": {
      "text/plain": [
       "count     1989.000000\n",
       "mean     13463.032255\n",
       "std       3144.006996\n",
       "min       6547.049805\n",
       "25%      10913.379883\n",
       "50%      13025.580078\n",
       "75%      16478.410156\n",
       "max      18312.390625\n",
       "Name: Close, dtype: float64"
      ]
     },
     "execution_count": 9,
     "metadata": {},
     "output_type": "execute_result"
    }
   ],
   "source": [
    "data.describe()"
   ]
  },
  {
   "cell_type": "code",
   "execution_count": 10,
   "id": "ba2c2230",
   "metadata": {},
   "outputs": [],
   "source": [
    "import matplotlib.pyplot as plt"
   ]
  },
  {
   "cell_type": "code",
   "execution_count": 11,
   "id": "35129dac",
   "metadata": {},
   "outputs": [],
   "source": [
    "#stationarity test\n",
    "from statsmodels.tsa.stattools import adfuller"
   ]
  },
  {
   "cell_type": "code",
   "execution_count": null,
   "id": "5f2fae3e",
   "metadata": {},
   "outputs": [],
   "source": []
  },
  {
   "cell_type": "code",
   "execution_count": 12,
   "id": "40e1438a",
   "metadata": {},
   "outputs": [
    {
     "name": "stdout",
     "output_type": "stream",
     "text": [
      "ADF Statistic: -1.226757785411685\n",
      "p-value: 0.6619805931301762\n"
     ]
    }
   ],
   "source": [
    "result = adfuller(data)\n",
    "print('ADF Statistic: {}'.format(result[0]))\n",
    "print('p-value: {}'.format(result[1]))"
   ]
  },
  {
   "cell_type": "code",
   "execution_count": 13,
   "id": "a92eb3e9",
   "metadata": {},
   "outputs": [],
   "source": [
    "data_price_diff = df\n",
    "data_price_diff = data_price_diff.set_index('Date')\n",
    "data_price_diff =  data_price_diff.loc[:,'DiffPrice']"
   ]
  },
  {
   "cell_type": "code",
   "execution_count": 14,
   "id": "def01d7f",
   "metadata": {},
   "outputs": [
    {
     "data": {
      "text/plain": [
       "<AxesSubplot:xlabel='Date'>"
      ]
     },
     "execution_count": 14,
     "metadata": {},
     "output_type": "execute_result"
    },
    {
     "data": {
      "image/png": "[encoded data removed]",
      "text/plain": [
       "<Figure size 432x288 with 1 Axes>"
      ]
     },
     "metadata": {
      "needs_background": "light"
     },
     "output_type": "display_data"
    }
   ],
   "source": [
    "data_price_diff.plot()"
   ]
  },
  {
   "cell_type": "code",
   "execution_count": 15,
   "id": "7bbba6b3",
   "metadata": {},
   "outputs": [
    {
     "name": "stdout",
     "output_type": "stream",
     "text": [
      "ADF Statistic: -10.090028744927771\n",
      "p-value: 1.1285560565967265e-17\n"
     ]
    }
   ],
   "source": [
    "result = adfuller(data_price_diff)\n",
    "print('ADF Statistic: {}'.format(result[0]))\n",
    "print('p-value: {}'.format(result[1]))"
   ]
  },
  {
   "cell_type": "code",
   "execution_count": 25,
   "id": "9209fd24",
   "metadata": {},
   "outputs": [
    {
     "ename": "AttributeError",
     "evalue": "'Series' object has no attribute 'reshape'",
     "output_type": "error",
     "traceback": [
      "\u001b[1;31m---------------------------------------------------------------------------\u001b[0m",
      "\u001b[1;31mAttributeError\u001b[0m                            Traceback (most recent call last)",
      "\u001b[1;32m<ipython-input-25-af01e7108230>\u001b[0m in \u001b[0;36m<module>\u001b[1;34m\u001b[0m\n\u001b[0;32m      1\u001b[0m \u001b[1;32mfrom\u001b[0m \u001b[0msklearn\u001b[0m\u001b[1;33m.\u001b[0m\u001b[0mpreprocessing\u001b[0m \u001b[1;32mimport\u001b[0m \u001b[0mMinMaxScaler\u001b[0m\u001b[1;33m\u001b[0m\u001b[1;33m\u001b[0m\u001b[0m\n\u001b[1;32m----> 2\u001b[1;33m \u001b[0mdata\u001b[0m\u001b[1;33m.\u001b[0m\u001b[0mreshape\u001b[0m\u001b[1;33m(\u001b[0m\u001b[1;33m-\u001b[0m\u001b[1;36m1\u001b[0m\u001b[1;33m,\u001b[0m\u001b[1;36m1\u001b[0m\u001b[1;33m)\u001b[0m\u001b[1;33m\u001b[0m\u001b[1;33m\u001b[0m\u001b[0m\n\u001b[0m\u001b[0;32m      3\u001b[0m \u001b[0mmin_max_scaler\u001b[0m \u001b[1;33m=\u001b[0m \u001b[0mMinMaxScaler\u001b[0m\u001b[1;33m(\u001b[0m\u001b[0mfeature_range\u001b[0m\u001b[1;33m=\u001b[0m\u001b[1;33m(\u001b[0m\u001b[1;36m0\u001b[0m\u001b[1;33m,\u001b[0m\u001b[1;36m100\u001b[0m\u001b[1;33m)\u001b[0m\u001b[1;33m)\u001b[0m\u001b[1;33m\u001b[0m\u001b[1;33m\u001b[0m\u001b[0m\n\u001b[0;32m      4\u001b[0m \u001b[0mdata\u001b[0m \u001b[1;33m=\u001b[0m \u001b[0mmin_max_scaler\u001b[0m\u001b[1;33m.\u001b[0m\u001b[0mfit_transform\u001b[0m\u001b[1;33m(\u001b[0m\u001b[0mdata\u001b[0m\u001b[1;33m)\u001b[0m\u001b[1;33m\u001b[0m\u001b[1;33m\u001b[0m\u001b[0m\n",
      "\u001b[1;32m~\\anaconda3\\lib\\site-packages\\pandas\\core\\generic.py\u001b[0m in \u001b[0;36m__getattr__\u001b[1;34m(self, name)\u001b[0m\n\u001b[0;32m   5463\u001b[0m             \u001b[1;32mif\u001b[0m \u001b[0mself\u001b[0m\u001b[1;33m.\u001b[0m\u001b[0m_info_axis\u001b[0m\u001b[1;33m.\u001b[0m\u001b[0m_can_hold_identifiers_and_holds_name\u001b[0m\u001b[1;33m(\u001b[0m\u001b[0mname\u001b[0m\u001b[1;33m)\u001b[0m\u001b[1;33m:\u001b[0m\u001b[1;33m\u001b[0m\u001b[1;33m\u001b[0m\u001b[0m\n\u001b[0;32m   5464\u001b[0m                 \u001b[1;32mreturn\u001b[0m \u001b[0mself\u001b[0m\u001b[1;33m[\u001b[0m\u001b[0mname\u001b[0m\u001b[1;33m]\u001b[0m\u001b[1;33m\u001b[0m\u001b[1;33m\u001b[0m\u001b[0m\n\u001b[1;32m-> 5465\u001b[1;33m             \u001b[1;32mreturn\u001b[0m \u001b[0mobject\u001b[0m\u001b[1;33m.\u001b[0m\u001b[0m__getattribute__\u001b[0m\u001b[1;33m(\u001b[0m\u001b[0mself\u001b[0m\u001b[1;33m,\u001b[0m \u001b[0mname\u001b[0m\u001b[1;33m)\u001b[0m\u001b[1;33m\u001b[0m\u001b[1;33m\u001b[0m\u001b[0m\n\u001b[0m\u001b[0;32m   5466\u001b[0m \u001b[1;33m\u001b[0m\u001b[0m\n\u001b[0;32m   5467\u001b[0m     \u001b[1;32mdef\u001b[0m \u001b[0m__setattr__\u001b[0m\u001b[1;33m(\u001b[0m\u001b[0mself\u001b[0m\u001b[1;33m,\u001b[0m \u001b[0mname\u001b[0m\u001b[1;33m:\u001b[0m \u001b[0mstr\u001b[0m\u001b[1;33m,\u001b[0m \u001b[0mvalue\u001b[0m\u001b[1;33m)\u001b[0m \u001b[1;33m->\u001b[0m \u001b[1;32mNone\u001b[0m\u001b[1;33m:\u001b[0m\u001b[1;33m\u001b[0m\u001b[1;33m\u001b[0m\u001b[0m\n",
      "\u001b[1;31mAttributeError\u001b[0m: 'Series' object has no attribute 'reshape'"
     ]
    }
   ],
   "source": [
    "from sklearn.preprocessing import MinMaxScaler\n",
    "data.reshape(-1,1)\n",
    "min_max_scaler = MinMaxScaler(feature_range=(0,1))\n",
    "data = min_max_scaler.fit_transform(data)\n"
   ]
  },
  {
   "cell_type": "code",
   "execution_count": 16,
   "id": "ad5533d5",
   "metadata": {},
   "outputs": [],
   "source": [
    "\n",
    "#time-series prediction models\n",
    "#from statsmodels.tsa.ar_model import AR\n",
    "#from statsmodels.tsa.arima_model import ARMA\n",
    "from statsmodels.tsa.arima_model import ARIMA\n",
    "from statsmodels.tsa.statespace.sarimax import SARIMAX\n",
    "\n",
    "#trend analysis\n",
    "from sklearn.linear_model import LinearRegression\n",
    "\n",
    "#to generate all combinations of the parameters\n",
    "import itertools\n",
    "\n",
    "#models' accuracy calculation\n",
    "from sklearn.metrics import mean_squared_error\n",
    "\n",
    "#to ignore all warnings\n",
    "import warnings\n",
    "warnings.filterwarnings('ignore')"
   ]
  },
  {
   "cell_type": "code",
   "execution_count": 17,
   "id": "44ceb7df",
   "metadata": {
    "scrolled": true
   },
   "outputs": [
    {
     "data": {
      "image/png": "[encoded data removed]",
      "text/plain": [
       "<Figure size 432x288 with 1 Axes>"
      ]
     },
     "metadata": {
      "needs_background": "light"
     },
     "output_type": "display_data"
    }
   ],
   "source": [
    "#plot the accuracy with various train-test splits\n",
    "\n",
    "x = data.values\n",
    "\n",
    "train_per_list=[0.5,0.6,0.7,0.8,0.9]\n",
    "acc_list=[]\n",
    "\n",
    "for train_per in train_per_list:\n",
    "    \n",
    "    #perform the split\n",
    "    train = x[:int(x.size*train_per)]\n",
    "    test = x[int(x.size*train_per):]\n",
    "    \n",
    "    #train the model\n",
    "    arma_model = ARIMA(train, order=(1, 0, 1))\n",
    "    arma_fit = arma_model.fit()\n",
    "    arma_pred = arma_fit.predict(start=int(x.size*train_per), end=x.size-1)\n",
    "    \n",
    "    #store the results\n",
    "    acc_list.append(mean_squared_error(test, arma_pred))\n",
    "\n",
    "#plot the graph\n",
    "plt.plot(train_per_list,acc_list)\n",
    "plt.ylabel('MSE')\n",
    "plt.xlabel('Training %')\n",
    "plt.show()"
   ]
  },
  {
   "cell_type": "code",
   "execution_count": null,
   "id": "6693161c",
   "metadata": {},
   "outputs": [],
   "source": []
  },
  {
   "cell_type": "code",
   "execution_count": 20,
   "id": "d9d115d5",
   "metadata": {},
   "outputs": [
    {
     "name": "stdout",
     "output_type": "stream",
     "text": [
      "Executing :  2 / 100  :  (1, 0, 0) MSE  1529804.1522390824\n",
      "Executing :  3 / 100  :  (1, 0, 1) MSE  1559411.0697387706\n",
      "Executing :  4 / 100  :  (1, 0, 2) MSE  1546575.5792151815\n",
      "Executing :  5 / 100  :  (1, 0, 3) MSE  1575768.372290718\n",
      "Executing :  6 / 100  :  (1, 0, 4) MSE  1593383.5576445065\n",
      "Executing :  7 / 100  :  (1, 1, 0) MSE  79903985.06585151\n",
      "Executing :  8 / 100  :  (1, 1, 1) MSE  79903886.2865925\n",
      "Executing :  9 / 100  :  (1, 1, 2) MSE  79903937.78122318\n",
      "Executing :  10 / 100  :  (1, 1, 3) MSE  79875238.44757137\n",
      "Executing :  11 / 100  :  (1, 1, 4) MSE  79900889.23169291\n",
      "Executing :  12 / 100  :  (1, 2, 0) MSE  79816247.46008363\n",
      "Executing :  13 / 100  :  (1, 2, 1) MSE  79825131.27715929\n",
      "Executing :  14 / 100  :  (1, 2, 2) MSE  79825146.59756914\n",
      "Executing :  15 / 100  :  (1, 2, 3) MSE  79825148.02801247\n",
      "Executing :  16 / 100  :  (1, 2, 4) MSE  79825150.42618318\n",
      "Executing :  27 / 100  :  (2, 0, 0) MSE  1921291.8560990694\n",
      "Executing :  28 / 100  :  (2, 0, 1) MSE  1547764.1574994074\n",
      "Executing :  29 / 100  :  (2, 0, 2) MSE  1549705.3686006926\n",
      "Executing :  30 / 100  :  (2, 0, 3) MSE  1639016.793898085\n",
      "Executing :  31 / 100  :  (2, 0, 4) MSE  1634952.2621064282\n",
      "Executing :  32 / 100  :  (2, 1, 0) MSE  79903928.37454586\n",
      "Executing :  33 / 100  :  (2, 1, 1) MSE  79871365.74477775\n",
      "Executing :  34 / 100  :  (2, 1, 2) MSE  79872554.73417851\n",
      "Executing :  35 / 100  :  (2, 1, 3) MSE  79901965.57362656\n",
      "Executing :  36 / 100  :  (2, 1, 4) MSE  79902219.93952796\n",
      "Executing :  37 / 100  :  (2, 2, 0) MSE  79819780.5539674\n",
      "Executing :  38 / 100  :  (2, 2, 1) MSE  79825137.06622384\n",
      "Executing :  39 / 100  :  (2, 2, 2) MSE  79825098.39588434\n",
      "Executing :  40 / 100  :  (2, 2, 3) MSE  79825125.73222828\n",
      "Executing :  41 / 100  :  (2, 2, 4) MSE  79825151.34709504\n",
      "Executing :  52 / 100  :  (3, 0, 0) MSE  1546950.4294901488\n",
      "Executing :  53 / 100  :  (3, 0, 1) MSE  1703612.5411563402\n",
      "Executing :  54 / 100  :  (3, 0, 2) MSE  1588522.3297499327\n",
      "Executing :  55 / 100  :  (3, 0, 3) MSE  1606869.5133297755\n",
      "Executing :  56 / 100  :  (3, 0, 4) MSE  1638208.3427222015\n",
      "Executing :  57 / 100  :  (3, 1, 0) MSE  79903731.98214696\n",
      "Executing :  58 / 100  :  (3, 1, 1) MSE  79900945.38643593\n",
      "Executing :  59 / 100  :  (3, 1, 2) MSE  79903532.8432089\n",
      "Executing :  60 / 100  :  (3, 1, 3) MSE  79877502.56393076\n",
      "Executing :  61 / 100  :  (3, 1, 4) MSE  79902371.2670109\n",
      "Executing :  62 / 100  :  (3, 2, 0) MSE  79823251.17626405\n",
      "Executing :  63 / 100  :  (3, 2, 1) MSE  79825134.93835938\n",
      "Executing :  64 / 100  :  (3, 2, 2) MSE  79825170.778008\n",
      "Executing :  65 / 100  :  (3, 2, 3) MSE  79825172.94919609\n",
      "Executing :  66 / 100  :  (3, 2, 4) MSE  79825673.84127566\n",
      "Executing :  77 / 100  :  (4, 0, 0) MSE  1569297.2509269915\n",
      "Executing :  78 / 100  :  (4, 0, 1) MSE  1635891.3889343773\n",
      "Executing :  79 / 100  :  (4, 0, 2) MSE  1945961.7329882756\n",
      "Executing :  80 / 100  :  (4, 0, 3) MSE  1645348.5679106452\n",
      "Executing :  81 / 100  :  (4, 0, 4) MSE  1608757.1787031074\n",
      "Executing :  82 / 100  :  (4, 1, 0) MSE  79903035.06223065\n",
      "Executing :  83 / 100  :  (4, 1, 1) MSE  79901068.62961282\n",
      "Executing :  84 / 100  :  (4, 1, 2) MSE  79903358.41332588\n",
      "Executing :  85 / 100  :  (4, 1, 3) MSE  79903570.8995756\n",
      "Executing :  86 / 100  :  (4, 1, 4) MSE  79904743.36561961\n",
      "Executing :  87 / 100  :  (4, 2, 0) MSE  79824628.89831197\n",
      "Executing :  88 / 100  :  (4, 2, 1) MSE  79825131.25421277\n",
      "Executing :  89 / 100  :  (4, 2, 2) MSE  79825139.760452\n",
      "Executing :  90 / 100  :  (4, 2, 3) MSE  79825240.29953098\n",
      "Executing :  91 / 100  :  (4, 2, 4) MSE  79825182.81860597\n",
      "\n",
      "\n",
      "smallest mse is  1529804.1522390824\n",
      "best parameters are  (1, 0, 0)\n"
     ]
    }
   ],
   "source": [
    "x = data.values\n",
    "#take all variants of P,D,Q from 0 to 5 (integers)\n",
    "#p=d=q = range(0,5)\n",
    "p = range(1,5)\n",
    "q=d=range(0,5)\n",
    "pdq = list(itertools.product(p,d,q))\n",
    "\n",
    "acc_list = []\n",
    "best = []\n",
    "smallest_mse = 1000000000000000\n",
    "i=1\n",
    "for param in pdq:\n",
    "\n",
    "    \n",
    "    i+=1\n",
    "    \n",
    "    try:\n",
    "        #train the model \n",
    "        arima_model = ARIMA(train, order=param)\n",
    "        arima_fit = arima_model.fit()\n",
    "        \n",
    "        #record the predictions for calculating accuracy\n",
    "        arima_pred = arima_fit.predict(start=int(x.size*train_per), end=x.size-1)\n",
    "        acc=mean_squared_error(test, arima_pred)\n",
    "        \n",
    "        #store the accrucy in a list for graph plotting\n",
    "        acc_list.append(acc)\n",
    "        \n",
    "        #capture the smallest MSE and its parameters\n",
    "        if acc < smallest_mse:\n",
    "            smallest_mse = acc\n",
    "            best = param\n",
    "        print(\"Executing : \",i,\"/\",len(pdq),\" : \", param, \"MSE \",acc)    \n",
    "\n",
    "    except:\n",
    "        #if the parameters are invalid, i.e. model training gives error, \n",
    "        #then add a very high error rate in the accrucy list\n",
    "        acc_list.append(100000)\n",
    "        continue\n",
    "        \n",
    "print(\"\\n\\nsmallest mse is \", smallest_mse)\n",
    "print(\"best parameters are \", best)"
   ]
  },
  {
   "cell_type": "code",
   "execution_count": null,
   "id": "77475a93",
   "metadata": {},
   "outputs": [],
   "source": []
  },
  {
   "cell_type": "code",
   "execution_count": null,
   "id": "9280fbf7",
   "metadata": {},
   "outputs": [],
   "source": []
  }
 ],
 "metadata": {
  "kernelspec": {
   "display_name": "Python 3",
   "language": "python",
   "name": "python3"
  },
  "language_info": {
   "codemirror_mode": {
    "name": "ipython",
    "version": 3
   },
   "file_extension": ".py",
   "mimetype": "text/x-python",
   "name": "python",
   "nbconvert_exporter": "python",
   "pygments_lexer": "ipython3",
   "version": "3.8.8"
  }
 },
 "nbformat": 4,
 "nbformat_minor": 5
}
