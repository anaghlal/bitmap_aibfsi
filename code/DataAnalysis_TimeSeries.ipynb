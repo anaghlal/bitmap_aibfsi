{
 "cells": [
  {
   "cell_type": "code",
   "execution_count": 1,
   "id": "61b8d9ad",
   "metadata": {},
   "outputs": [],
   "source": [
    "#basic packages\n",
    "import numpy as np\n",
    "import pandas as pd\n",
    "import matplotlib.pyplot as plt\n",
    "\n",
    "#stationarity test\n",
    "from statsmodels.tsa.stattools import adfuller\n",
    "\n",
    "from sklearn.preprocessing import MinMaxScaler\n",
    "\n",
    "import time\n",
    "\n",
    "#time-series prediction models\n",
    "\n",
    "from statsmodels.tsa.arima_model import ARIMA\n",
    "from statsmodels.tsa.statespace.sarimax import SARIMAX\n",
    "\n",
    "#trend analysis\n",
    "from sklearn.linear_model import LinearRegression\n",
    "\n",
    "#to generate all combinations of the parameters\n",
    "import itertools\n",
    "\n",
    "#models' accuracy calculation\n",
    "from sklearn.metrics import mean_squared_error\n",
    "from sklearn.metrics import confusion_matrix, accuracy_score\n",
    "\n",
    "#to ignore all warnings\n",
    "import warnings\n",
    "warnings.filterwarnings('ignore')"
   ]
  },
  {
   "cell_type": "code",
   "execution_count": 41,
   "id": "70caef26",
   "metadata": {},
   "outputs": [],
   "source": [
    "def direction(price_tplusone, price_t):\n",
    "    if price_tplusone > price_t :\n",
    "        return 1\n",
    "    return 0"
   ]
  },
  {
   "cell_type": "code",
   "execution_count": 43,
   "id": "2930af63",
   "metadata": {},
   "outputs": [],
   "source": [
    "def get_label_arr(price_arr):\n",
    "    label_arr = [0]\n",
    "    for i in range(1,len(price_arr)):\n",
    "        label_arr.append(direction(price_arr[i],price_arr[i-1]))\n",
    "    return  np.array(label_arr)"
   ]
  },
  {
   "cell_type": "code",
   "execution_count": 42,
   "id": "6af6abf3",
   "metadata": {},
   "outputs": [],
   "source": [
    "def accuracy_of_direction(y_predicted, label_test,price_test):                \n",
    "                label_predicted = []            \n",
    "                label_predicted.append(direction(y_predicted[0],price_test[0]))\n",
    "                for index in range(1,len(y_predicted)):\n",
    "                     label_predicted.append(direction(y_predicted[index], y_predicted[index-1]))\n",
    "                    \n",
    "                \n",
    "                ts_acc_pca = accuracy_score(label_test,label_predicted)\n",
    "                return ts_acc_pca"
   ]
  },
  {
   "cell_type": "code",
   "execution_count": 48,
   "id": "dc73c8b2",
   "metadata": {},
   "outputs": [],
   "source": [
    "def save_results_to_csv(results, colnames, file_name_suffix ):\n",
    "    results_df = pd.DataFrame(results,columns=colnames)\n",
    "    fname=file_name_suffix+str(time.time())+'.csv'\n",
    "    results_df.to_csv(fname)"
   ]
  },
  {
   "cell_type": "code",
   "execution_count": 22,
   "id": "e01620d3",
   "metadata": {},
   "outputs": [],
   "source": [
    "df = pd.read_csv('data/DJIA_table.csv')\n",
    "dfCombined = pd.read_csv('data/Combined_News_DJIA_Prices.csv')"
   ]
  },
  {
   "cell_type": "code",
   "execution_count": 23,
   "id": "5b6f5a11",
   "metadata": {},
   "outputs": [],
   "source": [
    "df['DiffPrice'] = df['Close']-df['Open']"
   ]
  },
  {
   "cell_type": "code",
   "execution_count": 24,
   "id": "1d2785a3",
   "metadata": {
    "scrolled": true
   },
   "outputs": [
    {
     "data": {
      "text/html": [
       "<div>\n",
       "<style scoped>\n",
       "    .dataframe tbody tr th:only-of-type {\n",
       "        vertical-align: middle;\n",
       "    }\n",
       "\n",
       "    .dataframe tbody tr th {\n",
       "        vertical-align: top;\n",
       "    }\n",
       "\n",
       "    .dataframe thead th {\n",
       "        text-align: right;\n",
       "    }\n",
       "</style>\n",
       "<table border=\"1\" class=\"dataframe\">\n",
       "  <thead>\n",
       "    <tr style=\"text-align: right;\">\n",
       "      <th></th>\n",
       "      <th>Date</th>\n",
       "      <th>Open</th>\n",
       "      <th>High</th>\n",
       "      <th>Low</th>\n",
       "      <th>Close</th>\n",
       "      <th>Volume</th>\n",
       "      <th>Adj Close</th>\n",
       "      <th>DiffPrice</th>\n",
       "    </tr>\n",
       "  </thead>\n",
       "  <tbody>\n",
       "    <tr>\n",
       "      <th>0</th>\n",
       "      <td>2016-07-01</td>\n",
       "      <td>17924.240234</td>\n",
       "      <td>18002.380859</td>\n",
       "      <td>17916.910156</td>\n",
       "      <td>17949.369141</td>\n",
       "      <td>82160000</td>\n",
       "      <td>17949.369141</td>\n",
       "      <td>25.128907</td>\n",
       "    </tr>\n",
       "    <tr>\n",
       "      <th>1</th>\n",
       "      <td>2016-06-30</td>\n",
       "      <td>17712.759766</td>\n",
       "      <td>17930.609375</td>\n",
       "      <td>17711.800781</td>\n",
       "      <td>17929.990234</td>\n",
       "      <td>133030000</td>\n",
       "      <td>17929.990234</td>\n",
       "      <td>217.230468</td>\n",
       "    </tr>\n",
       "    <tr>\n",
       "      <th>2</th>\n",
       "      <td>2016-06-29</td>\n",
       "      <td>17456.019531</td>\n",
       "      <td>17704.509766</td>\n",
       "      <td>17456.019531</td>\n",
       "      <td>17694.679688</td>\n",
       "      <td>106380000</td>\n",
       "      <td>17694.679688</td>\n",
       "      <td>238.660157</td>\n",
       "    </tr>\n",
       "    <tr>\n",
       "      <th>3</th>\n",
       "      <td>2016-06-28</td>\n",
       "      <td>17190.509766</td>\n",
       "      <td>17409.720703</td>\n",
       "      <td>17190.509766</td>\n",
       "      <td>17409.720703</td>\n",
       "      <td>112190000</td>\n",
       "      <td>17409.720703</td>\n",
       "      <td>219.210937</td>\n",
       "    </tr>\n",
       "    <tr>\n",
       "      <th>4</th>\n",
       "      <td>2016-06-27</td>\n",
       "      <td>17355.210938</td>\n",
       "      <td>17355.210938</td>\n",
       "      <td>17063.080078</td>\n",
       "      <td>17140.240234</td>\n",
       "      <td>138740000</td>\n",
       "      <td>17140.240234</td>\n",
       "      <td>-214.970704</td>\n",
       "    </tr>\n",
       "  </tbody>\n",
       "</table>\n",
       "</div>"
      ],
      "text/plain": [
       "         Date          Open          High           Low         Close  \\\n",
       "0  2016-07-01  17924.240234  18002.380859  17916.910156  17949.369141   \n",
       "1  2016-06-30  17712.759766  17930.609375  17711.800781  17929.990234   \n",
       "2  2016-06-29  17456.019531  17704.509766  17456.019531  17694.679688   \n",
       "3  2016-06-28  17190.509766  17409.720703  17190.509766  17409.720703   \n",
       "4  2016-06-27  17355.210938  17355.210938  17063.080078  17140.240234   \n",
       "\n",
       "      Volume     Adj Close   DiffPrice  \n",
       "0   82160000  17949.369141   25.128907  \n",
       "1  133030000  17929.990234  217.230468  \n",
       "2  106380000  17694.679688  238.660157  \n",
       "3  112190000  17409.720703  219.210937  \n",
       "4  138740000  17140.240234 -214.970704  "
      ]
     },
     "execution_count": 24,
     "metadata": {},
     "output_type": "execute_result"
    }
   ],
   "source": [
    "df.head()"
   ]
  },
  {
   "cell_type": "code",
   "execution_count": 25,
   "id": "ac2899b2",
   "metadata": {},
   "outputs": [
    {
     "data": {
      "text/html": [
       "<div>\n",
       "<style scoped>\n",
       "    .dataframe tbody tr th:only-of-type {\n",
       "        vertical-align: middle;\n",
       "    }\n",
       "\n",
       "    .dataframe tbody tr th {\n",
       "        vertical-align: top;\n",
       "    }\n",
       "\n",
       "    .dataframe thead th {\n",
       "        text-align: right;\n",
       "    }\n",
       "</style>\n",
       "<table border=\"1\" class=\"dataframe\">\n",
       "  <thead>\n",
       "    <tr style=\"text-align: right;\">\n",
       "      <th></th>\n",
       "      <th>Open</th>\n",
       "      <th>High</th>\n",
       "      <th>Low</th>\n",
       "      <th>Close</th>\n",
       "      <th>Volume</th>\n",
       "      <th>Adj Close</th>\n",
       "      <th>DiffPrice</th>\n",
       "    </tr>\n",
       "  </thead>\n",
       "  <tbody>\n",
       "    <tr>\n",
       "      <th>count</th>\n",
       "      <td>1989.000000</td>\n",
       "      <td>1989.000000</td>\n",
       "      <td>1989.000000</td>\n",
       "      <td>1989.000000</td>\n",
       "      <td>1.989000e+03</td>\n",
       "      <td>1989.000000</td>\n",
       "      <td>1989.000000</td>\n",
       "    </tr>\n",
       "    <tr>\n",
       "      <th>mean</th>\n",
       "      <td>13459.116048</td>\n",
       "      <td>13541.303173</td>\n",
       "      <td>13372.931728</td>\n",
       "      <td>13463.032255</td>\n",
       "      <td>1.628110e+08</td>\n",
       "      <td>13463.032255</td>\n",
       "      <td>3.916206</td>\n",
       "    </tr>\n",
       "    <tr>\n",
       "      <th>std</th>\n",
       "      <td>3143.281634</td>\n",
       "      <td>3136.271725</td>\n",
       "      <td>3150.420934</td>\n",
       "      <td>3144.006996</td>\n",
       "      <td>9.392343e+07</td>\n",
       "      <td>3144.006996</td>\n",
       "      <td>141.227938</td>\n",
       "    </tr>\n",
       "    <tr>\n",
       "      <th>min</th>\n",
       "      <td>6547.009766</td>\n",
       "      <td>6709.609863</td>\n",
       "      <td>6469.950195</td>\n",
       "      <td>6547.049805</td>\n",
       "      <td>8.410000e+06</td>\n",
       "      <td>6547.049805</td>\n",
       "      <td>-774.169922</td>\n",
       "    </tr>\n",
       "    <tr>\n",
       "      <th>25%</th>\n",
       "      <td>10907.339844</td>\n",
       "      <td>11000.980469</td>\n",
       "      <td>10824.759766</td>\n",
       "      <td>10913.379883</td>\n",
       "      <td>1.000000e+08</td>\n",
       "      <td>10913.379883</td>\n",
       "      <td>-60.169922</td>\n",
       "    </tr>\n",
       "    <tr>\n",
       "      <th>50%</th>\n",
       "      <td>13022.049805</td>\n",
       "      <td>13088.110352</td>\n",
       "      <td>12953.129883</td>\n",
       "      <td>13025.580078</td>\n",
       "      <td>1.351700e+08</td>\n",
       "      <td>13025.580078</td>\n",
       "      <td>8.540039</td>\n",
       "    </tr>\n",
       "    <tr>\n",
       "      <th>75%</th>\n",
       "      <td>16477.699219</td>\n",
       "      <td>16550.070312</td>\n",
       "      <td>16392.769531</td>\n",
       "      <td>16478.410156</td>\n",
       "      <td>1.926000e+08</td>\n",
       "      <td>16478.410156</td>\n",
       "      <td>74.558594</td>\n",
       "    </tr>\n",
       "    <tr>\n",
       "      <th>max</th>\n",
       "      <td>18315.060547</td>\n",
       "      <td>18351.359375</td>\n",
       "      <td>18272.560547</td>\n",
       "      <td>18312.390625</td>\n",
       "      <td>6.749200e+08</td>\n",
       "      <td>18312.390625</td>\n",
       "      <td>925.190430</td>\n",
       "    </tr>\n",
       "  </tbody>\n",
       "</table>\n",
       "</div>"
      ],
      "text/plain": [
       "               Open          High           Low         Close        Volume  \\\n",
       "count   1989.000000   1989.000000   1989.000000   1989.000000  1.989000e+03   \n",
       "mean   13459.116048  13541.303173  13372.931728  13463.032255  1.628110e+08   \n",
       "std     3143.281634   3136.271725   3150.420934   3144.006996  9.392343e+07   \n",
       "min     6547.009766   6709.609863   6469.950195   6547.049805  8.410000e+06   \n",
       "25%    10907.339844  11000.980469  10824.759766  10913.379883  1.000000e+08   \n",
       "50%    13022.049805  13088.110352  12953.129883  13025.580078  1.351700e+08   \n",
       "75%    16477.699219  16550.070312  16392.769531  16478.410156  1.926000e+08   \n",
       "max    18315.060547  18351.359375  18272.560547  18312.390625  6.749200e+08   \n",
       "\n",
       "          Adj Close    DiffPrice  \n",
       "count   1989.000000  1989.000000  \n",
       "mean   13463.032255     3.916206  \n",
       "std     3144.006996   141.227938  \n",
       "min     6547.049805  -774.169922  \n",
       "25%    10913.379883   -60.169922  \n",
       "50%    13025.580078     8.540039  \n",
       "75%    16478.410156    74.558594  \n",
       "max    18312.390625   925.190430  "
      ]
     },
     "execution_count": 25,
     "metadata": {},
     "output_type": "execute_result"
    }
   ],
   "source": [
    "df.describe()"
   ]
  },
  {
   "cell_type": "code",
   "execution_count": 26,
   "id": "ffab168e",
   "metadata": {},
   "outputs": [],
   "source": [
    "data = df\n",
    "data = data.set_index('Date')\n",
    "data = data.loc[:,'Close']"
   ]
  },
  {
   "cell_type": "code",
   "execution_count": null,
   "id": "d8ed4db9",
   "metadata": {},
   "outputs": [],
   "source": []
  },
  {
   "cell_type": "code",
   "execution_count": 27,
   "id": "91516c72",
   "metadata": {},
   "outputs": [
    {
     "data": {
      "text/plain": [
       "count     1989.000000\n",
       "mean     13463.032255\n",
       "std       3144.006996\n",
       "min       6547.049805\n",
       "25%      10913.379883\n",
       "50%      13025.580078\n",
       "75%      16478.410156\n",
       "max      18312.390625\n",
       "Name: Close, dtype: float64"
      ]
     },
     "execution_count": 27,
     "metadata": {},
     "output_type": "execute_result"
    }
   ],
   "source": [
    "data.describe()"
   ]
  },
  {
   "cell_type": "code",
   "execution_count": 28,
   "id": "e6603503",
   "metadata": {
    "scrolled": true
   },
   "outputs": [
    {
     "data": {
      "text/plain": [
       "Text(0.5, 1.0, 'Autocorrelation plot lag=5')"
      ]
     },
     "execution_count": 28,
     "metadata": {},
     "output_type": "execute_result"
    },
    {
     "data": {
      "image/png": "[encoded data removed]",
      "text/plain": [
       "<Figure size 720x720 with 1 Axes>"
      ]
     },
     "metadata": {
      "needs_background": "light"
     },
     "output_type": "display_data"
    },
    {
     "data": {
      "image/png": "[encoded data removed]",
      "text/plain": [
       "<Figure size 720x720 with 1 Axes>"
      ]
     },
     "metadata": {
      "needs_background": "light"
     },
     "output_type": "display_data"
    }
   ],
   "source": [
    "from pandas.plotting import lag_plot\n",
    "plt.figure(figsize=(10,10))\n",
    "lag_plot(df['Close'], lag=1)\n",
    "plt.title('Autocorrelation plot lag=1')\n",
    "\n",
    "plt.figure(figsize=(10,10))\n",
    "lag_plot(df['Close'], lag=5)\n",
    "plt.title('Autocorrelation plot lag=5')\n"
   ]
  },
  {
   "cell_type": "code",
   "execution_count": 29,
   "id": "ba2c2230",
   "metadata": {},
   "outputs": [],
   "source": [
    "\n",
    "import matplotlib.pyplot as plt"
   ]
  },
  {
   "cell_type": "code",
   "execution_count": 30,
   "id": "35129dac",
   "metadata": {},
   "outputs": [],
   "source": [
    "#stationarity test\n",
    "from statsmodels.tsa.stattools import adfuller"
   ]
  },
  {
   "cell_type": "code",
   "execution_count": null,
   "id": "5f2fae3e",
   "metadata": {},
   "outputs": [],
   "source": []
  },
  {
   "cell_type": "code",
   "execution_count": 31,
   "id": "40e1438a",
   "metadata": {},
   "outputs": [
    {
     "name": "stdout",
     "output_type": "stream",
     "text": [
      "ADF Statistic: -1.226757785411685\n",
      "p-value: 0.6619805931301762\n"
     ]
    }
   ],
   "source": [
    "result = adfuller(data)\n",
    "print('ADF Statistic: {}'.format(result[0]))\n",
    "print('p-value: {}'.format(result[1]))"
   ]
  },
  {
   "cell_type": "code",
   "execution_count": 32,
   "id": "a92eb3e9",
   "metadata": {},
   "outputs": [],
   "source": [
    "data_price_diff = df\n",
    "data_price_diff = data_price_diff.set_index('Date')\n",
    "data_price_diff =  data_price_diff.loc[:,'DiffPrice']"
   ]
  },
  {
   "cell_type": "code",
   "execution_count": 33,
   "id": "def01d7f",
   "metadata": {},
   "outputs": [
    {
     "data": {
      "text/plain": [
       "Text(0.5, 1.0, 'Price movement in a day, stationary time series')"
      ]
     },
     "execution_count": 33,
     "metadata": {},
     "output_type": "execute_result"
    },
    {
     "data": {
      "image/png": "[encoded data removed]",
      "text/plain": [
       "<Figure size 432x288 with 1 Axes>"
      ]
     },
     "metadata": {
      "needs_background": "light"
     },
     "output_type": "display_data"
    },
    {
     "data": {
      "image/png": "[encoded data removed]",
      "text/plain": [
       "<Figure size 720x720 with 1 Axes>"
      ]
     },
     "metadata": {
      "needs_background": "light"
     },
     "output_type": "display_data"
    }
   ],
   "source": [
    "#Differencing\n",
    "data_price_diff.plot()\n",
    "plt.figure(figsize=(10,10))\n",
    "plt.plot(data_price_diff.values)\n",
    "plt.title('Price movement in a day, stationary time series')\n",
    "\n"
   ]
  },
  {
   "cell_type": "code",
   "execution_count": 34,
   "id": "7bbba6b3",
   "metadata": {},
   "outputs": [
    {
     "name": "stdout",
     "output_type": "stream",
     "text": [
      "ADF Statistic: -10.090028744927771\n",
      "p-value: 1.1285560565967265e-17\n"
     ]
    }
   ],
   "source": [
    "result = adfuller(data_price_diff)\n",
    "print('ADF Statistic: {}'.format(result[0]))\n",
    "print('p-value: {}'.format(result[1]))"
   ]
  },
  {
   "cell_type": "code",
   "execution_count": null,
   "id": "2d18a72d",
   "metadata": {},
   "outputs": [],
   "source": []
  },
  {
   "cell_type": "markdown",
   "id": "a0d6ed9d",
   "metadata": {},
   "source": [
    "# AR Model"
   ]
  },
  {
   "cell_type": "code",
   "execution_count": 49,
   "id": "44ceb7df",
   "metadata": {
    "scrolled": true
   },
   "outputs": [
    {
     "name": "stdout",
     "output_type": "stream",
     "text": [
      "(1989,) (1989,)\n"
     ]
    },
    {
     "data": {
      "image/png": "[encoded data removed]",
      "text/plain": [
       "<Figure size 432x288 with 1 Axes>"
      ]
     },
     "metadata": {
      "needs_background": "light"
     },
     "output_type": "display_data"
    }
   ],
   "source": [
    "#plot the accuracy with various train-test splits\n",
    "\n",
    "x = data.values\n",
    "label_arr = get_label_arr(x)\n",
    "print(x.shape,label_arr.shape)\n",
    "\n",
    "train_per_list=[0.5,0.6,0.7,0.8,0.9]\n",
    "acc_list=[]\n",
    "\n",
    "for train_per in train_per_list:\n",
    "    \n",
    "    #perform the split\n",
    "    train = x[:int(x.size*train_per)]\n",
    "    test = x[int(x.size*train_per):]\n",
    "    \n",
    "    #train the model\n",
    "    arma_model = ARIMA(train, order=(1, 0, 1))\n",
    "    arma_fit = arma_model.fit()\n",
    "    arma_pred = arma_fit.predict(start=int(x.size*train_per), end=x.size-1)\n",
    "    \n",
    "    #store the results\n",
    "    acc_list.append(mean_squared_error(test, arma_pred))\n",
    "\n",
    "#plot the graph\n",
    "plt.plot(train_per_list,acc_list)\n",
    "plt.ylabel('Test MSE')\n",
    "plt.xlabel('Training %')\n",
    "plt.show()"
   ]
  },
  {
   "cell_type": "code",
   "execution_count": 50,
   "id": "6693161c",
   "metadata": {},
   "outputs": [],
   "source": [
    "min_max_scaler = MinMaxScaler(feature_range=(0,1))\n",
    "x = np.array(data.values)\n",
    "x = x.reshape(-1,1)\n",
    "x = min_max_scaler.fit_transform(x)"
   ]
  },
  {
   "cell_type": "code",
   "execution_count": null,
   "id": "d9d115d5",
   "metadata": {
    "scrolled": true
   },
   "outputs": [
    {
     "name": "stdout",
     "output_type": "stream",
     "text": [
      "For  0.6  executed :  2 / 48  :  (1, 0, 1) MSE  0.05260579173849632 Acc  0.45603015075376885 Time  0.2609527111053467\n",
      "Error in training model with param (1, 0, 5)\n",
      "For  0.6  executed :  4 / 48  :  (1, 1, 1) MSE  0.11719032930953378 Acc  0.5439698492462312 Time  0.5614140033721924\n",
      "For  0.6  executed :  5 / 48  :  (1, 1, 5) MSE  0.11724656187056215 Acc  0.5439698492462312 Time  1.046382188796997\n",
      "Error in training model with param (1, 3, 1)\n",
      "Error in training model with param (1, 3, 5)\n",
      "Error in training model with param (1, 5, 1)\n",
      "Error in training model with param (1, 5, 5)\n",
      "Error in training model with param (5, 0, 1)\n",
      "Error in training model with param (5, 0, 5)\n",
      "For  0.6  executed :  12 / 48  :  (5, 1, 1) MSE  0.11724768482252439 Acc  0.5552763819095478 Time  0.7350645065307617\n",
      "For  0.6  executed :  13 / 48  :  (5, 1, 5) MSE  0.11713516497539513 Acc  0.49120603015075376 Time  23.803565979003906\n",
      "Error in training model with param (5, 3, 1)\n",
      "Error in training model with param (5, 3, 5)\n",
      "Error in training model with param (5, 5, 1)\n",
      "Error in training model with param (5, 5, 5)\n",
      "For  0.6  executed :  18 / 48  :  (7, 0, 1) MSE  0.017943278923395426 Acc  0.5402010050251256 Time  6.080030202865601\n",
      "For  0.6  executed :  19 / 48  :  (7, 0, 5) MSE  0.017386086285300903 Acc  0.542713567839196 Time  9.692237377166748\n",
      "For  0.6  executed :  20 / 48  :  (7, 1, 1) MSE  0.11724879909900696 Acc  0.542713567839196 Time  4.882856369018555\n",
      "For  0.6  executed :  21 / 48  :  (7, 1, 5) MSE  0.11715894906758054 Acc  0.507537688442211 Time  32.42619466781616\n",
      "Error in training model with param (7, 3, 1)\n",
      "Error in training model with param (7, 3, 5)\n",
      "Error in training model with param (7, 5, 1)\n",
      "Error in training model with param (7, 5, 5)\n",
      "Error in training model with param (10, 0, 1)\n",
      "For  0.6  executed :  27 / 48  :  (10, 0, 5) MSE  0.02042874924453804 Acc  0.5402010050251256 Time  25.07374405860901\n",
      "For  0.6  executed :  28 / 48  :  (10, 1, 1) MSE  0.11724769020105044 Acc  0.4824120603015075 Time  14.635528564453125\n",
      "For  0.6  executed :  29 / 48  :  (10, 1, 5) MSE  0.11718432844648394 Acc  0.49874371859296485 Time  29.044832468032837\n",
      "Error in training model with param (10, 3, 1)\n",
      "Error in training model with param (10, 3, 5)\n",
      "Error in training model with param (10, 5, 1)\n",
      "Error in training model with param (10, 5, 5)\n",
      "Error in training model with param (12, 0, 1)\n",
      "For  0.6  executed :  35 / 48  :  (12, 0, 5) MSE  0.022311754838490072 Acc  0.5050251256281407 Time  119.03554224967957\n",
      "For  0.6  executed :  36 / 48  :  (12, 1, 1) MSE  0.11724835370645925 Acc  0.5527638190954773 Time  11.10765528678894\n",
      "For  0.6  executed :  37 / 48  :  (12, 1, 5) MSE  0.1171708663455882 Acc  0.4849246231155779 Time  97.00773358345032\n",
      "Error in training model with param (12, 3, 1)\n",
      "Error in training model with param (12, 3, 5)\n",
      "Error in training model with param (12, 5, 1)\n",
      "Error in training model with param (12, 5, 5)\n",
      "Error in training model with param (15, 0, 1)\n",
      "For  0.6  executed :  43 / 48  :  (15, 0, 5) MSE  0.014784370848569834 Acc  0.5414572864321608 Time  56.39869666099548\n",
      "For  0.6  executed :  44 / 48  :  (15, 1, 1) MSE  0.11724110739903935 Acc  0.5238693467336684 Time  35.965009689331055\n"
     ]
    }
   ],
   "source": [
    "train_per_list=[0.6,0.7,0.8]\n",
    "p = [1,5,7,10,12,15]\n",
    "d = [0,1,3,5]\n",
    "q = [1,5]\n",
    "\n",
    "pdq = list(itertools.product(p,d,q))\n",
    "\n",
    "acc_list = []\n",
    "\n",
    "smallest_mse = 1000000000000000\n",
    "best_acc = -1\n",
    "best=[]\n",
    "best_dir_acc=[]\n",
    "\n",
    "for train_per in train_per_list:\n",
    "    i=1\n",
    "    train = x[:int(x.size*train_per)]\n",
    "    test = x[int(x.size*train_per):]  \n",
    "    label_test=label_arr[int(x.size*train_per):]\n",
    "    for param in pdq:\n",
    "        i+=1\n",
    "        start=time.time()\n",
    "        try:\n",
    "            #train the model \n",
    "            arima_model = ARIMA(train, order=param)\n",
    "            arima_fit = arima_model.fit()\n",
    "\n",
    "            #record the predictions for calculating accuracy\n",
    "            arima_pred = arima_fit.predict(start=int(x.size*train_per), end=x.size-1)\n",
    "            acc=mean_squared_error(test, arima_pred)\n",
    "            ts_acc_dir= accuracy_of_direction(arima_pred,label_test,test)\n",
    "\n",
    "            #store the accrucy in a list for graph plotting\n",
    "            acc_list.append([train_per,param,acc,ts_acc_dir])\n",
    "\n",
    "            #capture the smallest MSE and its parameters\n",
    "            #capture the best accuracy and its parameters\n",
    "            if acc < smallest_mse:\n",
    "                smallest_mse = acc\n",
    "                best = [param, train_per]\n",
    "            \n",
    "            if ts_acc_dir > best_acc:\n",
    "                best_acc = ts_acc_dir\n",
    "                best_dir_acc = [param, train_per]\n",
    "                \n",
    "            total = time.time() - start    \n",
    "            print(\"For \",train_per,\" executed : \",i,\"/\",len(pdq),\" : \", param, \"MSE \",acc,'Acc ',ts_acc_dir,'Time ',total)    \n",
    "\n",
    "        except:\n",
    "            #if the parameters are invalid, i.e. model training gives error, \n",
    "            #then add a very high error rate in the accrucy list\n",
    "            print('Error in training model with param',param)\n",
    "            acc_list.append([train_per,param,1])\n",
    "            continue\n",
    "        \n",
    "\n",
    "\n",
    "print(\"\\n\\nsmallest mse is \", smallest_mse)\n",
    "print(\"best parameters are \", best)\n",
    "print(\"\\n\\nBest prediction accuracy is \", ts_acc_dir)\n",
    "print(\"best parameters are \", best_dir_acc)\n",
    "\n",
    "save_results_to_csv(acc_list,['Train_Per','Params','MSE','Accuracy'],'results_arima_accuracy')"
   ]
  },
  {
   "cell_type": "code",
   "execution_count": 18,
   "id": "e598e505",
   "metadata": {},
   "outputs": [
    {
     "data": {
      "text/html": [
       "<div>\n",
       "<style scoped>\n",
       "    .dataframe tbody tr th:only-of-type {\n",
       "        vertical-align: middle;\n",
       "    }\n",
       "\n",
       "    .dataframe tbody tr th {\n",
       "        vertical-align: top;\n",
       "    }\n",
       "\n",
       "    .dataframe thead th {\n",
       "        text-align: right;\n",
       "    }\n",
       "</style>\n",
       "<table border=\"1\" class=\"dataframe\">\n",
       "  <thead>\n",
       "    <tr style=\"text-align: right;\">\n",
       "      <th></th>\n",
       "      <th>Train_Per</th>\n",
       "      <th>Params</th>\n",
       "      <th>Accuracy</th>\n",
       "    </tr>\n",
       "  </thead>\n",
       "  <tbody>\n",
       "    <tr>\n",
       "      <th>0</th>\n",
       "      <td>0.6</td>\n",
       "      <td>(1, 0, 1)</td>\n",
       "      <td>0.052606</td>\n",
       "    </tr>\n",
       "    <tr>\n",
       "      <th>1</th>\n",
       "      <td>0.6</td>\n",
       "      <td>(1, 0, 5)</td>\n",
       "      <td>1.000000</td>\n",
       "    </tr>\n",
       "    <tr>\n",
       "      <th>2</th>\n",
       "      <td>0.6</td>\n",
       "      <td>(1, 1, 1)</td>\n",
       "      <td>0.117190</td>\n",
       "    </tr>\n",
       "    <tr>\n",
       "      <th>3</th>\n",
       "      <td>0.6</td>\n",
       "      <td>(1, 1, 5)</td>\n",
       "      <td>0.117247</td>\n",
       "    </tr>\n",
       "    <tr>\n",
       "      <th>4</th>\n",
       "      <td>0.6</td>\n",
       "      <td>(1, 3, 1)</td>\n",
       "      <td>1.000000</td>\n",
       "    </tr>\n",
       "    <tr>\n",
       "      <th>...</th>\n",
       "      <td>...</td>\n",
       "      <td>...</td>\n",
       "      <td>...</td>\n",
       "    </tr>\n",
       "    <tr>\n",
       "      <th>139</th>\n",
       "      <td>0.8</td>\n",
       "      <td>(15, 1, 5)</td>\n",
       "      <td>0.063391</td>\n",
       "    </tr>\n",
       "    <tr>\n",
       "      <th>140</th>\n",
       "      <td>0.8</td>\n",
       "      <td>(15, 3, 1)</td>\n",
       "      <td>1.000000</td>\n",
       "    </tr>\n",
       "    <tr>\n",
       "      <th>141</th>\n",
       "      <td>0.8</td>\n",
       "      <td>(15, 3, 5)</td>\n",
       "      <td>1.000000</td>\n",
       "    </tr>\n",
       "    <tr>\n",
       "      <th>142</th>\n",
       "      <td>0.8</td>\n",
       "      <td>(15, 5, 1)</td>\n",
       "      <td>1.000000</td>\n",
       "    </tr>\n",
       "    <tr>\n",
       "      <th>143</th>\n",
       "      <td>0.8</td>\n",
       "      <td>(15, 5, 5)</td>\n",
       "      <td>1.000000</td>\n",
       "    </tr>\n",
       "  </tbody>\n",
       "</table>\n",
       "<p>144 rows × 3 columns</p>\n",
       "</div>"
      ],
      "text/plain": [
       "     Train_Per      Params  Accuracy\n",
       "0          0.6   (1, 0, 1)  0.052606\n",
       "1          0.6   (1, 0, 5)  1.000000\n",
       "2          0.6   (1, 1, 1)  0.117190\n",
       "3          0.6   (1, 1, 5)  0.117247\n",
       "4          0.6   (1, 3, 1)  1.000000\n",
       "..         ...         ...       ...\n",
       "139        0.8  (15, 1, 5)  0.063391\n",
       "140        0.8  (15, 3, 1)  1.000000\n",
       "141        0.8  (15, 3, 5)  1.000000\n",
       "142        0.8  (15, 5, 1)  1.000000\n",
       "143        0.8  (15, 5, 5)  1.000000\n",
       "\n",
       "[144 rows x 3 columns]"
      ]
     },
     "execution_count": 18,
     "metadata": {},
     "output_type": "execute_result"
    }
   ],
   "source": []
  },
  {
   "cell_type": "code",
   "execution_count": null,
   "id": "77475a93",
   "metadata": {},
   "outputs": [],
   "source": [
    "train_per_list=[0.6,0.7]\n",
    "p = [1,5,10]\n",
    "d = [0,1]\n",
    "q = [5]\n",
    "\n",
    "pdq = list(itertools.product(p,d,q))\n",
    "\n",
    "acc_list_sarima = []\n",
    "results_df_sarima = pd.DataFrame(acc_list_sarima,columns=['Train_Per','Params','Accuracy'])\n",
    "\n",
    "smallest_mse = 1000000000000000\n",
    "#train_per_list=[0.5,0.6,0.7,0.8]\n",
    "best=[]\n",
    "best_acc = -1\n",
    "best_dir_acc=[]\n",
    "\n",
    "for train_per in train_per_list:\n",
    "    i=0\n",
    "    train = x[:int(x.size*train_per)]\n",
    "    test = x[int(x.size*train_per):]    \n",
    "    label_test=label_arr[int(x.size*train_per):]\n",
    "    for param in pdq:\n",
    "            i+=1    \n",
    "        try:\n",
    "            start=time.time()\n",
    "            print(\"For \",train_per,\" executing : \",i,\"/\",len(pdq),\" : \", param)    \n",
    "            seasonal_order = list(param)\n",
    "            seasonal_order.append(12)\n",
    "\n",
    "            #train the model \n",
    "            sarima_model = SARIMAX(train, order=param, seasonal_order=seasonal_order)\n",
    "            sarima_fit = sarima_model.fit()\n",
    "\n",
    "\n",
    "            #record the predictions for calculating accuracy\n",
    "            sarima_pred = sarima_fit.forecast(test.shape[0])            \n",
    "            acc=mean_squared_error(test, sarima_pred)\n",
    "            ts_acc_dir= accuracy_of_direction(sarima_pred,label_test,test)\n",
    "\n",
    "            #store the accrucy in a list for graph plotting\n",
    "            acc_list_sarima.append([train_per,param,acc,ts_acc_dir])\n",
    "            results_df_sarima = pd.DataFrame(acc_list_sarima,columns=['Train_Per','Params','MSE','Accuracy'])\n",
    "\n",
    "            #capture the smallest MSE and its parameters\n",
    "            if acc < smallest_mse:\n",
    "                 smallest_mse = acc\n",
    "                 best = [param, train_per]\n",
    "            if ts_acc_dir > best_acc:\n",
    "                best_acc = ts_acc_dir\n",
    "                best_dir_acc = [param, train_per]    \n",
    "            total = time.time() - start    \n",
    "            print(\"For \",train_per,\" executed : \",i,\"/\",len(pdq),\" : \", param, \"MSE \",acc,'Accuracy ',ts_acc_dir, 'Time in secs ',total)    \n",
    "        except:\n",
    "             #if the parameters are invalid, i.e. model training gives error, \n",
    "            #then add a very high error rate in the accrucy list\n",
    "            print('Error in training model with param',param)\n",
    "            acc_list.append([train_per,param,1])\n",
    "            continue\n",
    "            \n",
    "               \n",
    "print(\"\\n\\nsmallest mse is \", smallest_mse)\n",
    "print(\"best parameters are \", best)\n",
    "\n",
    "\n",
    "print(\"\\n\\nBest prediction accuracy is \", ts_acc_dir)\n",
    "print(\"best parameters are \", best_dir_acc)\n",
    "\n",
    "save_results_to_csv(acc_list_sarima,['Train_Per','Params','MSE','Accuracy'],'results_sarima_accuracy')\n"
   ]
  },
  {
   "cell_type": "code",
   "execution_count": null,
   "id": "3c809373",
   "metadata": {},
   "outputs": [],
   "source": []
  },
  {
   "cell_type": "code",
   "execution_count": null,
   "id": "57ec0549",
   "metadata": {},
   "outputs": [],
   "source": [
    "###Predictions\n",
    "train_per=0.8\n",
    "param=[15,0,5]\n",
    "train = x[:int(x.size*train_per)]\n",
    "test = x[int(x.size*train_per):]    \n",
    "label_test=label_arr[int(x.size*train_per):]\n",
    "try:\n",
    "            #train the model \n",
    "            arima_model = ARIMA(train, order=param)\n",
    "            arima_fit = arima_model.fit()\n",
    "\n",
    "            #record the predictions for calculating accuracy\n",
    "            arima_pred = arima_fit.predict(start=int(x.size*train_per), end=x.size-1)\n",
    "            acc=mean_squared_error(test, arima_pred)\n",
    "            print(accuracy_of_direction(arima_pred,label_test,test))\n",
    "\n",
    "except:\n",
    "            #if the parameters are invalid, i.e. model training gives error, \n",
    "            #then add a very high error rate in the accrucy list\n",
    "            print('Error in training model with param',param)\n",
    "            acc_list.append([train_per,param,1])\n",
    "                    \n",
    "\n",
    "\n"
   ]
  },
  {
   "cell_type": "code",
   "execution_count": null,
   "id": "9280fbf7",
   "metadata": {},
   "outputs": [],
   "source": []
  },
  {
   "cell_type": "code",
   "execution_count": null,
   "id": "0c4526bd",
   "metadata": {},
   "outputs": [],
   "source": []
  }
 ],
 "metadata": {
  "kernelspec": {
   "display_name": "Python 3",
   "language": "python",
   "name": "python3"
  },
  "language_info": {
   "codemirror_mode": {
    "name": "ipython",
    "version": 3
   },
   "file_extension": ".py",
   "mimetype": "text/x-python",
   "name": "python",
   "nbconvert_exporter": "python",
   "pygments_lexer": "ipython3",
   "version": "3.8.8"
  }
 },
 "nbformat": 4,
 "nbformat_minor": 5
}
