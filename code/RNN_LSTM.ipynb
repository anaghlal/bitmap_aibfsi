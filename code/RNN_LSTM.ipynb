{
 "cells": [
  {
   "cell_type": "code",
   "execution_count": 1,
   "metadata": {},
   "outputs": [],
   "source": [
    "import numpy as np\n",
    "import pandas as pd\n",
    "import matplotlib.pyplot as plt\n",
    "%matplotlib inline\n",
    "import warnings\n",
    "warnings.filterwarnings('ignore')\n",
    "from sklearn.model_selection import train_test_split"
   ]
  },
  {
   "cell_type": "code",
   "execution_count": 2,
   "metadata": {},
   "outputs": [
    {
     "data": {
      "text/plain": [
       "Date         0\n",
       "Open         0\n",
       "High         0\n",
       "Low          0\n",
       "Close        0\n",
       "Volume       0\n",
       "Adj Close    0\n",
       "dtype: int64"
      ]
     },
     "execution_count": 2,
     "metadata": {},
     "output_type": "execute_result"
    }
   ],
   "source": [
    "DJIA_df = pd.read_csv(\"DJIA_table.csv\")\n",
    "DJIA_df.isnull().sum()"
   ]
  },
  {
   "cell_type": "code",
   "execution_count": 3,
   "metadata": {},
   "outputs": [
    {
     "data": {
      "text/html": [
       "<div>\n",
       "<style scoped>\n",
       "    .dataframe tbody tr th:only-of-type {\n",
       "        vertical-align: middle;\n",
       "    }\n",
       "\n",
       "    .dataframe tbody tr th {\n",
       "        vertical-align: top;\n",
       "    }\n",
       "\n",
       "    .dataframe thead th {\n",
       "        text-align: right;\n",
       "    }\n",
       "</style>\n",
       "<table border=\"1\" class=\"dataframe\">\n",
       "  <thead>\n",
       "    <tr style=\"text-align: right;\">\n",
       "      <th></th>\n",
       "      <th>Date</th>\n",
       "      <th>Open</th>\n",
       "      <th>High</th>\n",
       "      <th>Low</th>\n",
       "      <th>Close</th>\n",
       "      <th>Volume</th>\n",
       "      <th>Adj Close</th>\n",
       "    </tr>\n",
       "  </thead>\n",
       "  <tbody>\n",
       "    <tr>\n",
       "      <th>0</th>\n",
       "      <td>2016-07-01</td>\n",
       "      <td>17924.240234</td>\n",
       "      <td>18002.380859</td>\n",
       "      <td>17916.910156</td>\n",
       "      <td>17949.369141</td>\n",
       "      <td>82160000</td>\n",
       "      <td>17949.369141</td>\n",
       "    </tr>\n",
       "    <tr>\n",
       "      <th>1</th>\n",
       "      <td>2016-06-30</td>\n",
       "      <td>17712.759766</td>\n",
       "      <td>17930.609375</td>\n",
       "      <td>17711.800781</td>\n",
       "      <td>17929.990234</td>\n",
       "      <td>133030000</td>\n",
       "      <td>17929.990234</td>\n",
       "    </tr>\n",
       "    <tr>\n",
       "      <th>2</th>\n",
       "      <td>2016-06-29</td>\n",
       "      <td>17456.019531</td>\n",
       "      <td>17704.509766</td>\n",
       "      <td>17456.019531</td>\n",
       "      <td>17694.679688</td>\n",
       "      <td>106380000</td>\n",
       "      <td>17694.679688</td>\n",
       "    </tr>\n",
       "    <tr>\n",
       "      <th>3</th>\n",
       "      <td>2016-06-28</td>\n",
       "      <td>17190.509766</td>\n",
       "      <td>17409.720703</td>\n",
       "      <td>17190.509766</td>\n",
       "      <td>17409.720703</td>\n",
       "      <td>112190000</td>\n",
       "      <td>17409.720703</td>\n",
       "    </tr>\n",
       "    <tr>\n",
       "      <th>4</th>\n",
       "      <td>2016-06-27</td>\n",
       "      <td>17355.210938</td>\n",
       "      <td>17355.210938</td>\n",
       "      <td>17063.080078</td>\n",
       "      <td>17140.240234</td>\n",
       "      <td>138740000</td>\n",
       "      <td>17140.240234</td>\n",
       "    </tr>\n",
       "  </tbody>\n",
       "</table>\n",
       "</div>"
      ],
      "text/plain": [
       "         Date          Open          High           Low         Close  \\\n",
       "0  2016-07-01  17924.240234  18002.380859  17916.910156  17949.369141   \n",
       "1  2016-06-30  17712.759766  17930.609375  17711.800781  17929.990234   \n",
       "2  2016-06-29  17456.019531  17704.509766  17456.019531  17694.679688   \n",
       "3  2016-06-28  17190.509766  17409.720703  17190.509766  17409.720703   \n",
       "4  2016-06-27  17355.210938  17355.210938  17063.080078  17140.240234   \n",
       "\n",
       "      Volume     Adj Close  \n",
       "0   82160000  17949.369141  \n",
       "1  133030000  17929.990234  \n",
       "2  106380000  17694.679688  \n",
       "3  112190000  17409.720703  \n",
       "4  138740000  17140.240234  "
      ]
     },
     "execution_count": 3,
     "metadata": {},
     "output_type": "execute_result"
    }
   ],
   "source": [
    "DJIA_df.head()"
   ]
  },
  {
   "cell_type": "code",
   "execution_count": 4,
   "metadata": {},
   "outputs": [],
   "source": [
    "DJIA_df_data = DJIA_df[['Date', 'Open', 'Close']]"
   ]
  },
  {
   "cell_type": "code",
   "execution_count": 5,
   "metadata": {},
   "outputs": [],
   "source": [
    "train_size = 0.8\n",
    "\n",
    "dataset_train = DJIA_df_data.iloc[:round(train_size*len(DJIA_df_data)), :]\n",
    "dataset_test = DJIA_df_data.iloc[round(train_size*len(DJIA_df_data)):, :]"
   ]
  },
  {
   "cell_type": "code",
   "execution_count": 6,
   "metadata": {},
   "outputs": [],
   "source": [
    "training_set = dataset_train.iloc[:, 1:2].values"
   ]
  },
  {
   "cell_type": "code",
   "execution_count": 7,
   "metadata": {},
   "outputs": [],
   "source": [
    "from sklearn.preprocessing import MinMaxScaler\n",
    "sc = MinMaxScaler(feature_range=(0,1))\n",
    "training_set_scaled = sc.fit_transform(training_set)"
   ]
  },
  {
   "cell_type": "code",
   "execution_count": 8,
   "metadata": {},
   "outputs": [
    {
     "data": {
      "text/plain": [
       "1591"
      ]
     },
     "execution_count": 8,
     "metadata": {},
     "output_type": "execute_result"
    }
   ],
   "source": [
    "len(training_set_scaled)"
   ]
  },
  {
   "cell_type": "code",
   "execution_count": 9,
   "metadata": {},
   "outputs": [],
   "source": [
    "X_train = list()\n",
    "y_train = list()\n",
    "for i in range(60, 1590):\n",
    "    X_train.append(training_set_scaled[i-60:i, 0])\n",
    "    y_train.append(training_set_scaled[i, 0])\n",
    "    \n",
    "X_train, y_train = np.array(X_train), np.array(y_train)\n",
    "X_train = np.reshape(X_train, (X_train.shape[0], X_train.shape[1], 1))"
   ]
  },
  {
   "cell_type": "code",
   "execution_count": 10,
   "metadata": {},
   "outputs": [
    {
     "data": {
      "text/plain": [
       "398"
      ]
     },
     "execution_count": 10,
     "metadata": {},
     "output_type": "execute_result"
    }
   ],
   "source": [
    "len(dataset_test)"
   ]
  },
  {
   "cell_type": "code",
   "execution_count": 49,
   "metadata": {},
   "outputs": [],
   "source": [
    "from keras.models import Sequential\n",
    "from keras.layers import LSTM\n",
    "from keras.layers import Dropout\n",
    "from keras.layers import Dense"
   ]
  },
  {
   "cell_type": "code",
   "execution_count": 50,
   "metadata": {},
   "outputs": [
    {
     "name": "stdout",
     "output_type": "stream",
     "text": [
      "Epoch 1/50\n",
      "48/48 [==============================] - 15s 110ms/step - loss: 0.0399 - accuracy: 0.0013\n",
      "Epoch 2/50\n",
      "48/48 [==============================] - 5s 110ms/step - loss: 0.0059 - accuracy: 0.0013\n",
      "Epoch 3/50\n",
      "48/48 [==============================] - 5s 111ms/step - loss: 0.0056 - accuracy: 0.0013\n",
      "Epoch 4/50\n",
      "48/48 [==============================] - 5s 109ms/step - loss: 0.0067 - accuracy: 0.0013\n",
      "Epoch 5/50\n",
      "48/48 [==============================] - 5s 110ms/step - loss: 0.0050 - accuracy: 0.0013\n",
      "Epoch 6/50\n",
      "48/48 [==============================] - 6s 117ms/step - loss: 0.0050 - accuracy: 0.0013\n",
      "Epoch 7/50\n",
      "48/48 [==============================] - 5s 111ms/step - loss: 0.0052 - accuracy: 0.0013\n",
      "Epoch 8/50\n",
      "48/48 [==============================] - 6s 119ms/step - loss: 0.0049 - accuracy: 0.0013\n",
      "Epoch 9/50\n",
      "48/48 [==============================] - 6s 120ms/step - loss: 0.0044 - accuracy: 0.0013\n",
      "Epoch 10/50\n",
      "48/48 [==============================] - 6s 118ms/step - loss: 0.0041 - accuracy: 0.0013\n",
      "Epoch 11/50\n",
      "48/48 [==============================] - 5s 109ms/step - loss: 0.0044 - accuracy: 0.0013\n",
      "Epoch 12/50\n",
      "48/48 [==============================] - 5s 111ms/step - loss: 0.0042 - accuracy: 0.0013\n",
      "Epoch 13/50\n",
      "48/48 [==============================] - 6s 115ms/step - loss: 0.0044 - accuracy: 0.0013\n",
      "Epoch 14/50\n",
      "48/48 [==============================] - 5s 111ms/step - loss: 0.0041 - accuracy: 0.0013\n",
      "Epoch 15/50\n",
      "48/48 [==============================] - 6s 121ms/step - loss: 0.0046 - accuracy: 0.0013\n",
      "Epoch 16/50\n",
      "48/48 [==============================] - 6s 120ms/step - loss: 0.0041 - accuracy: 0.0013\n",
      "Epoch 17/50\n",
      "48/48 [==============================] - 6s 122ms/step - loss: 0.0039 - accuracy: 0.0013\n",
      "Epoch 18/50\n",
      "48/48 [==============================] - 5s 115ms/step - loss: 0.0040 - accuracy: 0.0013\n",
      "Epoch 19/50\n",
      "48/48 [==============================] - 6s 136ms/step - loss: 0.0038 - accuracy: 0.0013\n",
      "Epoch 20/50\n",
      "48/48 [==============================] - 7s 139ms/step - loss: 0.0037 - accuracy: 0.0013\n",
      "Epoch 21/50\n",
      "48/48 [==============================] - 6s 119ms/step - loss: 0.0040 - accuracy: 0.0013\n",
      "Epoch 22/50\n",
      "48/48 [==============================] - 6s 120ms/step - loss: 0.0033 - accuracy: 0.0013\n",
      "Epoch 23/50\n",
      "48/48 [==============================] - 6s 116ms/step - loss: 0.0036 - accuracy: 0.0013\n",
      "Epoch 24/50\n",
      "48/48 [==============================] - 6s 117ms/step - loss: 0.0033 - accuracy: 0.0013\n",
      "Epoch 25/50\n",
      "48/48 [==============================] - 5s 110ms/step - loss: 0.0032 - accuracy: 0.0013\n",
      "Epoch 26/50\n",
      "48/48 [==============================] - 5s 111ms/step - loss: 0.0032 - accuracy: 0.0013\n",
      "Epoch 27/50\n",
      "48/48 [==============================] - 6s 118ms/step - loss: 0.0032 - accuracy: 0.0013\n",
      "Epoch 28/50\n",
      "48/48 [==============================] - 5s 113ms/step - loss: 0.0029 - accuracy: 0.0013\n",
      "Epoch 29/50\n",
      "48/48 [==============================] - 6s 127ms/step - loss: 0.0032 - accuracy: 0.0013\n",
      "Epoch 30/50\n",
      "48/48 [==============================] - 6s 135ms/step - loss: 0.0031 - accuracy: 0.0013\n",
      "Epoch 31/50\n",
      "48/48 [==============================] - 6s 118ms/step - loss: 0.0027 - accuracy: 0.0013\n",
      "Epoch 32/50\n",
      "48/48 [==============================] - 7s 153ms/step - loss: 0.0032 - accuracy: 0.0013\n",
      "Epoch 33/50\n",
      "48/48 [==============================] - 7s 138ms/step - loss: 0.0030 - accuracy: 0.0013\n",
      "Epoch 34/50\n",
      "48/48 [==============================] - 6s 134ms/step - loss: 0.0029 - accuracy: 0.0013\n",
      "Epoch 35/50\n",
      "48/48 [==============================] - 6s 119ms/step - loss: 0.0030 - accuracy: 0.0013\n",
      "Epoch 36/50\n",
      "48/48 [==============================] - 6s 118ms/step - loss: 0.0028 - accuracy: 0.0013\n",
      "Epoch 37/50\n",
      "48/48 [==============================] - 6s 121ms/step - loss: 0.0028 - accuracy: 0.0013\n",
      "Epoch 38/50\n",
      "48/48 [==============================] - 6s 116ms/step - loss: 0.0031 - accuracy: 0.0013\n",
      "Epoch 39/50\n",
      "48/48 [==============================] - 6s 125ms/step - loss: 0.0025 - accuracy: 0.0013\n",
      "Epoch 40/50\n",
      "48/48 [==============================] - 6s 123ms/step - loss: 0.0025 - accuracy: 0.0013\n",
      "Epoch 41/50\n",
      "48/48 [==============================] - 6s 135ms/step - loss: 0.0026 - accuracy: 0.0013\n",
      "Epoch 42/50\n",
      "48/48 [==============================] - 6s 132ms/step - loss: 0.0026 - accuracy: 0.0013\n",
      "Epoch 43/50\n",
      "48/48 [==============================] - 6s 134ms/step - loss: 0.0027 - accuracy: 0.0013\n",
      "Epoch 44/50\n",
      "48/48 [==============================] - 6s 130ms/step - loss: 0.0026 - accuracy: 0.0013\n",
      "Epoch 45/50\n",
      "48/48 [==============================] - 6s 135ms/step - loss: 0.0023 - accuracy: 0.0013\n",
      "Epoch 46/50\n",
      "48/48 [==============================] - 6s 129ms/step - loss: 0.0024 - accuracy: 0.0013\n",
      "Epoch 47/50\n",
      "48/48 [==============================] - 6s 126ms/step - loss: 0.0023 - accuracy: 0.0013\n",
      "Epoch 48/50\n",
      "48/48 [==============================] - 6s 125ms/step - loss: 0.0021 - accuracy: 0.0013\n",
      "Epoch 49/50\n",
      "48/48 [==============================] - 6s 127ms/step - loss: 0.0023 - accuracy: 0.0013\n",
      "Epoch 50/50\n",
      "48/48 [==============================] - 6s 132ms/step - loss: 0.0022 - accuracy: 0.0013\n"
     ]
    },
    {
     "data": {
      "text/plain": [
       "<keras.callbacks.History at 0x21fd153ce50>"
      ]
     },
     "execution_count": 50,
     "metadata": {},
     "output_type": "execute_result"
    }
   ],
   "source": [
    "model = Sequential()\n",
    "model.add(LSTM(units=50,return_sequences=True,input_shape=(X_train.shape[1], 1)))\n",
    "model.add(Dropout(0.2))\n",
    "model.add(LSTM(units=50,return_sequences=True))\n",
    "model.add(Dropout(0.2))\n",
    "model.add(LSTM(units=50,return_sequences=True))\n",
    "model.add(Dropout(0.2))\n",
    "model.add(LSTM(units=50))\n",
    "model.add(Dropout(0.2))\n",
    "model.add(Dense(units=1))\n",
    "model.compile(optimizer='adam',loss='mean_squared_error', metrics=['accuracy'])\n",
    "model.fit(X_train,y_train,epochs=50,batch_size=32)"
   ]
  },
  {
   "cell_type": "code",
   "execution_count": 51,
   "metadata": {},
   "outputs": [],
   "source": [
    "real_stock_price = dataset_test.iloc[:, 1:2].values"
   ]
  },
  {
   "cell_type": "code",
   "execution_count": 52,
   "metadata": {},
   "outputs": [],
   "source": [
    "dataset_total = pd.concat((dataset_train['Open'], dataset_test['Open']), axis = 0)\n",
    "inputs = dataset_total[len(dataset_total) - len(dataset_test) - 60:].values\n",
    "inputs = inputs.reshape(-1,1)\n",
    "inputs = sc.transform(inputs)\n",
    "X_test = []\n",
    "for i in range(60, 367+91):\n",
    "    X_test.append(inputs[i-60:i, 0])\n",
    "X_test = np.array(X_test)\n",
    "X_test = np.reshape(X_test, (X_test.shape[0], X_test.shape[1], 1))\n",
    "predicted_stock_price = model.predict(X_test)\n",
    "predicted_stock_price = sc.inverse_transform(predicted_stock_price)"
   ]
  },
  {
   "cell_type": "code",
   "execution_count": 53,
   "metadata": {},
   "outputs": [
    {
     "data": {
      "image/png": "[encoded data removed]",
      "text/plain": [
       "<Figure size 432x288 with 1 Axes>"
      ]
     },
     "metadata": {
      "needs_background": "light"
     },
     "output_type": "display_data"
    }
   ],
   "source": [
    "plt.plot(real_stock_price, color = 'red', label = 'DJIA Stock Price')\n",
    "plt.plot(predicted_stock_price, color = 'green', label = 'Predicted DJIA Stock Price')\n",
    "plt.title('DJIA Stock Price Prediction')\n",
    "plt.xlabel('Time')\n",
    "plt.ylabel('DJIA Stock Price')\n",
    "plt.legend()\n",
    "plt.show()"
   ]
  },
  {
   "cell_type": "code",
   "execution_count": null,
   "metadata": {},
   "outputs": [],
   "source": []
  }
 ],
 "metadata": {
  "kernelspec": {
   "display_name": "Python 3",
   "language": "python",
   "name": "python3"
  },
  "language_info": {
   "codemirror_mode": {
    "name": "ipython",
    "version": 3
   },
   "file_extension": ".py",
   "mimetype": "text/x-python",
   "name": "python",
   "nbconvert_exporter": "python",
   "pygments_lexer": "ipython3",
   "version": "3.8.3"
  }
 },
 "nbformat": 4,
 "nbformat_minor": 4
}
